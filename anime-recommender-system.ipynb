{
 "cells": [
  {
   "cell_type": "markdown",
   "id": "a47d685c",
   "metadata": {
    "papermill": {
     "duration": 0.008106,
     "end_time": "2023-01-26T13:24:54.128028",
     "exception": false,
     "start_time": "2023-01-26T13:24:54.119922",
     "status": "completed"
    },
    "tags": []
   },
   "source": [
    "## **Preparation**"
   ]
  },
  {
   "cell_type": "code",
   "execution_count": 1,
   "id": "584f2c67",
   "metadata": {
    "_kg_hide-input": true,
    "execution": {
     "iopub.execute_input": "2023-01-26T13:24:54.144225Z",
     "iopub.status.busy": "2023-01-26T13:24:54.143407Z",
     "iopub.status.idle": "2023-01-26T13:24:55.038473Z",
     "shell.execute_reply": "2023-01-26T13:24:55.037495Z"
    },
    "papermill": {
     "duration": 0.905936,
     "end_time": "2023-01-26T13:24:55.040964",
     "exception": false,
     "start_time": "2023-01-26T13:24:54.135028",
     "status": "completed"
    },
    "tags": []
   },
   "outputs": [],
   "source": [
    "import numpy as np\n",
    "import pandas as pd\n",
    "import matplotlib.pyplot as plt\n",
    "import seaborn as sns"
   ]
  },
  {
   "cell_type": "code",
   "execution_count": 2,
   "id": "f80e55e3",
   "metadata": {
    "_kg_hide-input": true,
    "execution": {
     "iopub.execute_input": "2023-01-26T13:24:55.057641Z",
     "iopub.status.busy": "2023-01-26T13:24:55.056194Z",
     "iopub.status.idle": "2023-01-26T13:24:57.648955Z",
     "shell.execute_reply": "2023-01-26T13:24:57.647961Z"
    },
    "papermill": {
     "duration": 2.603128,
     "end_time": "2023-01-26T13:24:57.651284",
     "exception": false,
     "start_time": "2023-01-26T13:24:55.048156",
     "status": "completed"
    },
    "tags": []
   },
   "outputs": [],
   "source": [
    "anime = pd.read_csv(\"../input/anime-recommendations-database/anime.csv\")\n",
    "rating = pd.read_csv(\"../input/anime-recommendations-database/rating.csv\")"
   ]
  },
  {
   "cell_type": "code",
   "execution_count": 3,
   "id": "977da144",
   "metadata": {
    "_kg_hide-input": true,
    "execution": {
     "iopub.execute_input": "2023-01-26T13:24:57.667741Z",
     "iopub.status.busy": "2023-01-26T13:24:57.666824Z",
     "iopub.status.idle": "2023-01-26T13:24:57.686786Z",
     "shell.execute_reply": "2023-01-26T13:24:57.685575Z"
    },
    "papermill": {
     "duration": 0.032456,
     "end_time": "2023-01-26T13:24:57.691030",
     "exception": false,
     "start_time": "2023-01-26T13:24:57.658574",
     "status": "completed"
    },
    "tags": []
   },
   "outputs": [
    {
     "name": "stdout",
     "output_type": "stream",
     "text": [
      "Shape of The Anime Dataset : (12294, 7)\n"
     ]
    },
    {
     "data": {
      "text/html": [
       "<div>\n",
       "<style scoped>\n",
       "    .dataframe tbody tr th:only-of-type {\n",
       "        vertical-align: middle;\n",
       "    }\n",
       "\n",
       "    .dataframe tbody tr th {\n",
       "        vertical-align: top;\n",
       "    }\n",
       "\n",
       "    .dataframe thead th {\n",
       "        text-align: right;\n",
       "    }\n",
       "</style>\n",
       "<table border=\"1\" class=\"dataframe\">\n",
       "  <thead>\n",
       "    <tr style=\"text-align: right;\">\n",
       "      <th></th>\n",
       "      <th>anime_id</th>\n",
       "      <th>name</th>\n",
       "      <th>genre</th>\n",
       "      <th>type</th>\n",
       "      <th>episodes</th>\n",
       "      <th>rating</th>\n",
       "      <th>members</th>\n",
       "    </tr>\n",
       "  </thead>\n",
       "  <tbody>\n",
       "    <tr>\n",
       "      <th>0</th>\n",
       "      <td>32281</td>\n",
       "      <td>Kimi no Na wa.</td>\n",
       "      <td>Drama, Romance, School, Supernatural</td>\n",
       "      <td>Movie</td>\n",
       "      <td>1</td>\n",
       "      <td>9.37</td>\n",
       "      <td>200630</td>\n",
       "    </tr>\n",
       "    <tr>\n",
       "      <th>1</th>\n",
       "      <td>5114</td>\n",
       "      <td>Fullmetal Alchemist: Brotherhood</td>\n",
       "      <td>Action, Adventure, Drama, Fantasy, Magic, Mili...</td>\n",
       "      <td>TV</td>\n",
       "      <td>64</td>\n",
       "      <td>9.26</td>\n",
       "      <td>793665</td>\n",
       "    </tr>\n",
       "    <tr>\n",
       "      <th>2</th>\n",
       "      <td>28977</td>\n",
       "      <td>Gintama°</td>\n",
       "      <td>Action, Comedy, Historical, Parody, Samurai, S...</td>\n",
       "      <td>TV</td>\n",
       "      <td>51</td>\n",
       "      <td>9.25</td>\n",
       "      <td>114262</td>\n",
       "    </tr>\n",
       "    <tr>\n",
       "      <th>3</th>\n",
       "      <td>9253</td>\n",
       "      <td>Steins;Gate</td>\n",
       "      <td>Sci-Fi, Thriller</td>\n",
       "      <td>TV</td>\n",
       "      <td>24</td>\n",
       "      <td>9.17</td>\n",
       "      <td>673572</td>\n",
       "    </tr>\n",
       "    <tr>\n",
       "      <th>4</th>\n",
       "      <td>9969</td>\n",
       "      <td>Gintama&amp;#039;</td>\n",
       "      <td>Action, Comedy, Historical, Parody, Samurai, S...</td>\n",
       "      <td>TV</td>\n",
       "      <td>51</td>\n",
       "      <td>9.16</td>\n",
       "      <td>151266</td>\n",
       "    </tr>\n",
       "  </tbody>\n",
       "</table>\n",
       "</div>"
      ],
      "text/plain": [
       "   anime_id                              name  \\\n",
       "0     32281                    Kimi no Na wa.   \n",
       "1      5114  Fullmetal Alchemist: Brotherhood   \n",
       "2     28977                          Gintama°   \n",
       "3      9253                       Steins;Gate   \n",
       "4      9969                     Gintama&#039;   \n",
       "\n",
       "                                               genre   type episodes  rating  \\\n",
       "0               Drama, Romance, School, Supernatural  Movie        1    9.37   \n",
       "1  Action, Adventure, Drama, Fantasy, Magic, Mili...     TV       64    9.26   \n",
       "2  Action, Comedy, Historical, Parody, Samurai, S...     TV       51    9.25   \n",
       "3                                   Sci-Fi, Thriller     TV       24    9.17   \n",
       "4  Action, Comedy, Historical, Parody, Samurai, S...     TV       51    9.16   \n",
       "\n",
       "   members  \n",
       "0   200630  \n",
       "1   793665  \n",
       "2   114262  \n",
       "3   673572  \n",
       "4   151266  "
      ]
     },
     "execution_count": 3,
     "metadata": {},
     "output_type": "execute_result"
    }
   ],
   "source": [
    "print(f\"Shape of The Anime Dataset : {anime.shape}\")\n",
    "anime.head()"
   ]
  },
  {
   "cell_type": "code",
   "execution_count": 4,
   "id": "4d632b92",
   "metadata": {
    "_kg_hide-input": true,
    "execution": {
     "iopub.execute_input": "2023-01-26T13:24:57.707074Z",
     "iopub.status.busy": "2023-01-26T13:24:57.706469Z",
     "iopub.status.idle": "2023-01-26T13:24:57.727943Z",
     "shell.execute_reply": "2023-01-26T13:24:57.726903Z"
    },
    "papermill": {
     "duration": 0.032844,
     "end_time": "2023-01-26T13:24:57.731486",
     "exception": false,
     "start_time": "2023-01-26T13:24:57.698642",
     "status": "completed"
    },
    "tags": []
   },
   "outputs": [
    {
     "name": "stdout",
     "output_type": "stream",
     "text": [
      "Informations About Anime Dataset :\n",
      "\n",
      "<class 'pandas.core.frame.DataFrame'>\n",
      "RangeIndex: 12294 entries, 0 to 12293\n",
      "Data columns (total 7 columns):\n",
      " #   Column    Non-Null Count  Dtype  \n",
      "---  ------    --------------  -----  \n",
      " 0   anime_id  12294 non-null  int64  \n",
      " 1   name      12294 non-null  object \n",
      " 2   genre     12232 non-null  object \n",
      " 3   type      12269 non-null  object \n",
      " 4   episodes  12294 non-null  object \n",
      " 5   rating    12064 non-null  float64\n",
      " 6   members   12294 non-null  int64  \n",
      "dtypes: float64(1), int64(2), object(4)\n",
      "memory usage: 672.5+ KB\n",
      "None\n"
     ]
    }
   ],
   "source": [
    "print(f\"Informations About Anime Dataset :\\n\")\n",
    "print(anime.info())"
   ]
  },
  {
   "cell_type": "code",
   "execution_count": 5,
   "id": "1666077b",
   "metadata": {
    "_kg_hide-input": true,
    "execution": {
     "iopub.execute_input": "2023-01-26T13:24:57.746954Z",
     "iopub.status.busy": "2023-01-26T13:24:57.746672Z",
     "iopub.status.idle": "2023-01-26T13:24:57.756292Z",
     "shell.execute_reply": "2023-01-26T13:24:57.755090Z"
    },
    "papermill": {
     "duration": 0.019698,
     "end_time": "2023-01-26T13:24:57.758309",
     "exception": false,
     "start_time": "2023-01-26T13:24:57.738611",
     "status": "completed"
    },
    "tags": []
   },
   "outputs": [
    {
     "name": "stdout",
     "output_type": "stream",
     "text": [
      "Shape of The Rating Dataset : (7813737, 3)\n"
     ]
    },
    {
     "data": {
      "text/html": [
       "<div>\n",
       "<style scoped>\n",
       "    .dataframe tbody tr th:only-of-type {\n",
       "        vertical-align: middle;\n",
       "    }\n",
       "\n",
       "    .dataframe tbody tr th {\n",
       "        vertical-align: top;\n",
       "    }\n",
       "\n",
       "    .dataframe thead th {\n",
       "        text-align: right;\n",
       "    }\n",
       "</style>\n",
       "<table border=\"1\" class=\"dataframe\">\n",
       "  <thead>\n",
       "    <tr style=\"text-align: right;\">\n",
       "      <th></th>\n",
       "      <th>user_id</th>\n",
       "      <th>anime_id</th>\n",
       "      <th>rating</th>\n",
       "    </tr>\n",
       "  </thead>\n",
       "  <tbody>\n",
       "    <tr>\n",
       "      <th>0</th>\n",
       "      <td>1</td>\n",
       "      <td>20</td>\n",
       "      <td>-1</td>\n",
       "    </tr>\n",
       "    <tr>\n",
       "      <th>1</th>\n",
       "      <td>1</td>\n",
       "      <td>24</td>\n",
       "      <td>-1</td>\n",
       "    </tr>\n",
       "    <tr>\n",
       "      <th>2</th>\n",
       "      <td>1</td>\n",
       "      <td>79</td>\n",
       "      <td>-1</td>\n",
       "    </tr>\n",
       "    <tr>\n",
       "      <th>3</th>\n",
       "      <td>1</td>\n",
       "      <td>226</td>\n",
       "      <td>-1</td>\n",
       "    </tr>\n",
       "    <tr>\n",
       "      <th>4</th>\n",
       "      <td>1</td>\n",
       "      <td>241</td>\n",
       "      <td>-1</td>\n",
       "    </tr>\n",
       "  </tbody>\n",
       "</table>\n",
       "</div>"
      ],
      "text/plain": [
       "   user_id  anime_id  rating\n",
       "0        1        20      -1\n",
       "1        1        24      -1\n",
       "2        1        79      -1\n",
       "3        1       226      -1\n",
       "4        1       241      -1"
      ]
     },
     "execution_count": 5,
     "metadata": {},
     "output_type": "execute_result"
    }
   ],
   "source": [
    "print(f\"Shape of The Rating Dataset : {rating.shape}\")\n",
    "rating.head()"
   ]
  },
  {
   "cell_type": "code",
   "execution_count": 6,
   "id": "fc60cc34",
   "metadata": {
    "_kg_hide-input": true,
    "execution": {
     "iopub.execute_input": "2023-01-26T13:24:57.775308Z",
     "iopub.status.busy": "2023-01-26T13:24:57.773801Z",
     "iopub.status.idle": "2023-01-26T13:24:57.784674Z",
     "shell.execute_reply": "2023-01-26T13:24:57.783477Z"
    },
    "papermill": {
     "duration": 0.021583,
     "end_time": "2023-01-26T13:24:57.787294",
     "exception": false,
     "start_time": "2023-01-26T13:24:57.765711",
     "status": "completed"
    },
    "tags": []
   },
   "outputs": [
    {
     "name": "stdout",
     "output_type": "stream",
     "text": [
      "Informations About Rating Dataset :\n",
      "\n",
      "<class 'pandas.core.frame.DataFrame'>\n",
      "RangeIndex: 7813737 entries, 0 to 7813736\n",
      "Data columns (total 3 columns):\n",
      " #   Column    Dtype\n",
      "---  ------    -----\n",
      " 0   user_id   int64\n",
      " 1   anime_id  int64\n",
      " 2   rating    int64\n",
      "dtypes: int64(3)\n",
      "memory usage: 178.8 MB\n",
      "None\n"
     ]
    }
   ],
   "source": [
    "print(f\"Informations About Rating Dataset :\\n\")\n",
    "print(rating.info())"
   ]
  },
  {
   "cell_type": "code",
   "execution_count": 7,
   "id": "b09feb99",
   "metadata": {
    "_kg_hide-input": true,
    "execution": {
     "iopub.execute_input": "2023-01-26T13:24:57.804971Z",
     "iopub.status.busy": "2023-01-26T13:24:57.804185Z",
     "iopub.status.idle": "2023-01-26T13:24:57.826653Z",
     "shell.execute_reply": "2023-01-26T13:24:57.825164Z"
    },
    "papermill": {
     "duration": 0.033033,
     "end_time": "2023-01-26T13:24:57.829088",
     "exception": false,
     "start_time": "2023-01-26T13:24:57.796055",
     "status": "completed"
    },
    "tags": []
   },
   "outputs": [
    {
     "name": "stdout",
     "output_type": "stream",
     "text": [
      "Summary of The Anime Dataset :\n"
     ]
    },
    {
     "data": {
      "text/html": [
       "<div>\n",
       "<style scoped>\n",
       "    .dataframe tbody tr th:only-of-type {\n",
       "        vertical-align: middle;\n",
       "    }\n",
       "\n",
       "    .dataframe tbody tr th {\n",
       "        vertical-align: top;\n",
       "    }\n",
       "\n",
       "    .dataframe thead th {\n",
       "        text-align: right;\n",
       "    }\n",
       "</style>\n",
       "<table border=\"1\" class=\"dataframe\">\n",
       "  <thead>\n",
       "    <tr style=\"text-align: right;\">\n",
       "      <th></th>\n",
       "      <th>anime_id</th>\n",
       "      <th>rating</th>\n",
       "      <th>members</th>\n",
       "    </tr>\n",
       "  </thead>\n",
       "  <tbody>\n",
       "    <tr>\n",
       "      <th>count</th>\n",
       "      <td>12294.000000</td>\n",
       "      <td>12064.000000</td>\n",
       "      <td>1.229400e+04</td>\n",
       "    </tr>\n",
       "    <tr>\n",
       "      <th>mean</th>\n",
       "      <td>14058.221653</td>\n",
       "      <td>6.473902</td>\n",
       "      <td>1.807134e+04</td>\n",
       "    </tr>\n",
       "    <tr>\n",
       "      <th>std</th>\n",
       "      <td>11455.294701</td>\n",
       "      <td>1.026746</td>\n",
       "      <td>5.482068e+04</td>\n",
       "    </tr>\n",
       "    <tr>\n",
       "      <th>min</th>\n",
       "      <td>1.000000</td>\n",
       "      <td>1.670000</td>\n",
       "      <td>5.000000e+00</td>\n",
       "    </tr>\n",
       "    <tr>\n",
       "      <th>25%</th>\n",
       "      <td>3484.250000</td>\n",
       "      <td>5.880000</td>\n",
       "      <td>2.250000e+02</td>\n",
       "    </tr>\n",
       "    <tr>\n",
       "      <th>50%</th>\n",
       "      <td>10260.500000</td>\n",
       "      <td>6.570000</td>\n",
       "      <td>1.550000e+03</td>\n",
       "    </tr>\n",
       "    <tr>\n",
       "      <th>75%</th>\n",
       "      <td>24794.500000</td>\n",
       "      <td>7.180000</td>\n",
       "      <td>9.437000e+03</td>\n",
       "    </tr>\n",
       "    <tr>\n",
       "      <th>max</th>\n",
       "      <td>34527.000000</td>\n",
       "      <td>10.000000</td>\n",
       "      <td>1.013917e+06</td>\n",
       "    </tr>\n",
       "  </tbody>\n",
       "</table>\n",
       "</div>"
      ],
      "text/plain": [
       "           anime_id        rating       members\n",
       "count  12294.000000  12064.000000  1.229400e+04\n",
       "mean   14058.221653      6.473902  1.807134e+04\n",
       "std    11455.294701      1.026746  5.482068e+04\n",
       "min        1.000000      1.670000  5.000000e+00\n",
       "25%     3484.250000      5.880000  2.250000e+02\n",
       "50%    10260.500000      6.570000  1.550000e+03\n",
       "75%    24794.500000      7.180000  9.437000e+03\n",
       "max    34527.000000     10.000000  1.013917e+06"
      ]
     },
     "execution_count": 7,
     "metadata": {},
     "output_type": "execute_result"
    }
   ],
   "source": [
    "print(f\"Summary of The Anime Dataset :\")\n",
    "anime.describe()"
   ]
  },
  {
   "cell_type": "code",
   "execution_count": 8,
   "id": "2c96e5ee",
   "metadata": {
    "_kg_hide-input": true,
    "execution": {
     "iopub.execute_input": "2023-01-26T13:24:57.845957Z",
     "iopub.status.busy": "2023-01-26T13:24:57.845396Z",
     "iopub.status.idle": "2023-01-26T13:24:57.870081Z",
     "shell.execute_reply": "2023-01-26T13:24:57.868991Z"
    },
    "papermill": {
     "duration": 0.035364,
     "end_time": "2023-01-26T13:24:57.872052",
     "exception": false,
     "start_time": "2023-01-26T13:24:57.836688",
     "status": "completed"
    },
    "tags": []
   },
   "outputs": [
    {
     "data": {
      "text/html": [
       "<div>\n",
       "<style scoped>\n",
       "    .dataframe tbody tr th:only-of-type {\n",
       "        vertical-align: middle;\n",
       "    }\n",
       "\n",
       "    .dataframe tbody tr th {\n",
       "        vertical-align: top;\n",
       "    }\n",
       "\n",
       "    .dataframe thead th {\n",
       "        text-align: right;\n",
       "    }\n",
       "</style>\n",
       "<table border=\"1\" class=\"dataframe\">\n",
       "  <thead>\n",
       "    <tr style=\"text-align: right;\">\n",
       "      <th></th>\n",
       "      <th>name</th>\n",
       "      <th>genre</th>\n",
       "      <th>type</th>\n",
       "      <th>episodes</th>\n",
       "    </tr>\n",
       "  </thead>\n",
       "  <tbody>\n",
       "    <tr>\n",
       "      <th>count</th>\n",
       "      <td>12294</td>\n",
       "      <td>12232</td>\n",
       "      <td>12269</td>\n",
       "      <td>12294</td>\n",
       "    </tr>\n",
       "    <tr>\n",
       "      <th>unique</th>\n",
       "      <td>12292</td>\n",
       "      <td>3264</td>\n",
       "      <td>6</td>\n",
       "      <td>187</td>\n",
       "    </tr>\n",
       "    <tr>\n",
       "      <th>top</th>\n",
       "      <td>Shi Wan Ge Leng Xiaohua</td>\n",
       "      <td>Hentai</td>\n",
       "      <td>TV</td>\n",
       "      <td>1</td>\n",
       "    </tr>\n",
       "    <tr>\n",
       "      <th>freq</th>\n",
       "      <td>2</td>\n",
       "      <td>823</td>\n",
       "      <td>3787</td>\n",
       "      <td>5677</td>\n",
       "    </tr>\n",
       "  </tbody>\n",
       "</table>\n",
       "</div>"
      ],
      "text/plain": [
       "                           name   genre   type episodes\n",
       "count                     12294   12232  12269    12294\n",
       "unique                    12292    3264      6      187\n",
       "top     Shi Wan Ge Leng Xiaohua  Hentai     TV        1\n",
       "freq                          2     823   3787     5677"
      ]
     },
     "execution_count": 8,
     "metadata": {},
     "output_type": "execute_result"
    }
   ],
   "source": [
    "anime.describe(include=object)"
   ]
  },
  {
   "cell_type": "code",
   "execution_count": 9,
   "id": "4a38ee0d",
   "metadata": {
    "_kg_hide-input": true,
    "execution": {
     "iopub.execute_input": "2023-01-26T13:24:57.889180Z",
     "iopub.status.busy": "2023-01-26T13:24:57.888495Z",
     "iopub.status.idle": "2023-01-26T13:24:57.900761Z",
     "shell.execute_reply": "2023-01-26T13:24:57.899180Z"
    },
    "papermill": {
     "duration": 0.023614,
     "end_time": "2023-01-26T13:24:57.903416",
     "exception": false,
     "start_time": "2023-01-26T13:24:57.879802",
     "status": "completed"
    },
    "tags": []
   },
   "outputs": [
    {
     "name": "stdout",
     "output_type": "stream",
     "text": [
      "Null Values of Anime Dataset :\n"
     ]
    },
    {
     "data": {
      "text/plain": [
       "anime_id      0\n",
       "name          0\n",
       "genre        62\n",
       "type         25\n",
       "episodes      0\n",
       "rating      230\n",
       "members       0\n",
       "dtype: int64"
      ]
     },
     "execution_count": 9,
     "metadata": {},
     "output_type": "execute_result"
    }
   ],
   "source": [
    "print(\"Null Values of Anime Dataset :\")\n",
    "anime.isna().sum()"
   ]
  },
  {
   "cell_type": "code",
   "execution_count": 10,
   "id": "61728694",
   "metadata": {
    "_kg_hide-input": true,
    "execution": {
     "iopub.execute_input": "2023-01-26T13:24:57.927830Z",
     "iopub.status.busy": "2023-01-26T13:24:57.926632Z",
     "iopub.status.idle": "2023-01-26T13:24:57.965081Z",
     "shell.execute_reply": "2023-01-26T13:24:57.963379Z"
    },
    "papermill": {
     "duration": 0.058536,
     "end_time": "2023-01-26T13:24:57.969937",
     "exception": false,
     "start_time": "2023-01-26T13:24:57.911401",
     "status": "completed"
    },
    "tags": []
   },
   "outputs": [
    {
     "name": "stdout",
     "output_type": "stream",
     "text": [
      "After Dropping, Null Values of Anime Dataset :\n"
     ]
    },
    {
     "data": {
      "text/plain": [
       "anime_id    0\n",
       "name        0\n",
       "genre       0\n",
       "type        0\n",
       "episodes    0\n",
       "rating      0\n",
       "members     0\n",
       "dtype: int64"
      ]
     },
     "execution_count": 10,
     "metadata": {},
     "output_type": "execute_result"
    }
   ],
   "source": [
    "print(\"After Dropping, Null Values of Anime Dataset :\")\n",
    "anime.dropna(axis = 0, inplace = True)\n",
    "anime.isna().sum()"
   ]
  },
  {
   "cell_type": "code",
   "execution_count": 11,
   "id": "f1d30ee9",
   "metadata": {
    "_kg_hide-input": true,
    "execution": {
     "iopub.execute_input": "2023-01-26T13:24:58.004580Z",
     "iopub.status.busy": "2023-01-26T13:24:58.003973Z",
     "iopub.status.idle": "2023-01-26T13:24:58.040254Z",
     "shell.execute_reply": "2023-01-26T13:24:58.035706Z"
    },
    "papermill": {
     "duration": 0.05365,
     "end_time": "2023-01-26T13:24:58.043326",
     "exception": false,
     "start_time": "2023-01-26T13:24:57.989676",
     "status": "completed"
    },
    "tags": []
   },
   "outputs": [
    {
     "name": "stdout",
     "output_type": "stream",
     "text": [
      "There are 0 duplicate entries among 12017 entries in anime dataset.\n"
     ]
    }
   ],
   "source": [
    "dup_anime = anime[anime.duplicated()].shape[0]\n",
    "print(f\"There are {dup_anime} duplicate entries among {anime.shape[0]} entries in anime dataset.\")"
   ]
  },
  {
   "cell_type": "code",
   "execution_count": 12,
   "id": "586e605f",
   "metadata": {
    "_kg_hide-input": true,
    "execution": {
     "iopub.execute_input": "2023-01-26T13:24:58.074394Z",
     "iopub.status.busy": "2023-01-26T13:24:58.074092Z",
     "iopub.status.idle": "2023-01-26T13:24:58.830272Z",
     "shell.execute_reply": "2023-01-26T13:24:58.829333Z"
    },
    "papermill": {
     "duration": 0.772982,
     "end_time": "2023-01-26T13:24:58.832539",
     "exception": false,
     "start_time": "2023-01-26T13:24:58.059557",
     "status": "completed"
    },
    "tags": []
   },
   "outputs": [
    {
     "name": "stdout",
     "output_type": "stream",
     "text": [
      "Summary of The Rating Dataset :\n"
     ]
    },
    {
     "data": {
      "text/html": [
       "<div>\n",
       "<style scoped>\n",
       "    .dataframe tbody tr th:only-of-type {\n",
       "        vertical-align: middle;\n",
       "    }\n",
       "\n",
       "    .dataframe tbody tr th {\n",
       "        vertical-align: top;\n",
       "    }\n",
       "\n",
       "    .dataframe thead th {\n",
       "        text-align: right;\n",
       "    }\n",
       "</style>\n",
       "<table border=\"1\" class=\"dataframe\">\n",
       "  <thead>\n",
       "    <tr style=\"text-align: right;\">\n",
       "      <th></th>\n",
       "      <th>user_id</th>\n",
       "      <th>anime_id</th>\n",
       "      <th>rating</th>\n",
       "    </tr>\n",
       "  </thead>\n",
       "  <tbody>\n",
       "    <tr>\n",
       "      <th>count</th>\n",
       "      <td>7.813737e+06</td>\n",
       "      <td>7.813737e+06</td>\n",
       "      <td>7.813737e+06</td>\n",
       "    </tr>\n",
       "    <tr>\n",
       "      <th>mean</th>\n",
       "      <td>3.672796e+04</td>\n",
       "      <td>8.909072e+03</td>\n",
       "      <td>6.144030e+00</td>\n",
       "    </tr>\n",
       "    <tr>\n",
       "      <th>std</th>\n",
       "      <td>2.099795e+04</td>\n",
       "      <td>8.883950e+03</td>\n",
       "      <td>3.727800e+00</td>\n",
       "    </tr>\n",
       "    <tr>\n",
       "      <th>min</th>\n",
       "      <td>1.000000e+00</td>\n",
       "      <td>1.000000e+00</td>\n",
       "      <td>-1.000000e+00</td>\n",
       "    </tr>\n",
       "    <tr>\n",
       "      <th>25%</th>\n",
       "      <td>1.897400e+04</td>\n",
       "      <td>1.240000e+03</td>\n",
       "      <td>6.000000e+00</td>\n",
       "    </tr>\n",
       "    <tr>\n",
       "      <th>50%</th>\n",
       "      <td>3.679100e+04</td>\n",
       "      <td>6.213000e+03</td>\n",
       "      <td>7.000000e+00</td>\n",
       "    </tr>\n",
       "    <tr>\n",
       "      <th>75%</th>\n",
       "      <td>5.475700e+04</td>\n",
       "      <td>1.409300e+04</td>\n",
       "      <td>9.000000e+00</td>\n",
       "    </tr>\n",
       "    <tr>\n",
       "      <th>max</th>\n",
       "      <td>7.351600e+04</td>\n",
       "      <td>3.451900e+04</td>\n",
       "      <td>1.000000e+01</td>\n",
       "    </tr>\n",
       "  </tbody>\n",
       "</table>\n",
       "</div>"
      ],
      "text/plain": [
       "            user_id      anime_id        rating\n",
       "count  7.813737e+06  7.813737e+06  7.813737e+06\n",
       "mean   3.672796e+04  8.909072e+03  6.144030e+00\n",
       "std    2.099795e+04  8.883950e+03  3.727800e+00\n",
       "min    1.000000e+00  1.000000e+00 -1.000000e+00\n",
       "25%    1.897400e+04  1.240000e+03  6.000000e+00\n",
       "50%    3.679100e+04  6.213000e+03  7.000000e+00\n",
       "75%    5.475700e+04  1.409300e+04  9.000000e+00\n",
       "max    7.351600e+04  3.451900e+04  1.000000e+01"
      ]
     },
     "execution_count": 12,
     "metadata": {},
     "output_type": "execute_result"
    }
   ],
   "source": [
    "print(f\"Summary of The Rating Dataset :\")\n",
    "rating.describe()"
   ]
  },
  {
   "cell_type": "code",
   "execution_count": 13,
   "id": "153d0dbc",
   "metadata": {
    "_kg_hide-input": true,
    "execution": {
     "iopub.execute_input": "2023-01-26T13:24:58.851703Z",
     "iopub.status.busy": "2023-01-26T13:24:58.850926Z",
     "iopub.status.idle": "2023-01-26T13:24:58.889170Z",
     "shell.execute_reply": "2023-01-26T13:24:58.887104Z"
    },
    "papermill": {
     "duration": 0.050927,
     "end_time": "2023-01-26T13:24:58.892186",
     "exception": false,
     "start_time": "2023-01-26T13:24:58.841259",
     "status": "completed"
    },
    "tags": []
   },
   "outputs": [
    {
     "name": "stdout",
     "output_type": "stream",
     "text": [
      "Null Values of Rating Dataset :\n"
     ]
    },
    {
     "data": {
      "text/plain": [
       "user_id     0\n",
       "anime_id    0\n",
       "rating      0\n",
       "dtype: int64"
      ]
     },
     "execution_count": 13,
     "metadata": {},
     "output_type": "execute_result"
    }
   ],
   "source": [
    "print(\"Null Values of Rating Dataset :\")\n",
    "rating.isna().sum()"
   ]
  },
  {
   "cell_type": "code",
   "execution_count": 14,
   "id": "d9e84483",
   "metadata": {
    "_kg_hide-input": true,
    "execution": {
     "iopub.execute_input": "2023-01-26T13:24:58.914754Z",
     "iopub.status.busy": "2023-01-26T13:24:58.913938Z",
     "iopub.status.idle": "2023-01-26T13:25:02.012100Z",
     "shell.execute_reply": "2023-01-26T13:25:02.010862Z"
    },
    "papermill": {
     "duration": 3.110849,
     "end_time": "2023-01-26T13:25:02.014897",
     "exception": false,
     "start_time": "2023-01-26T13:24:58.904048",
     "status": "completed"
    },
    "tags": []
   },
   "outputs": [
    {
     "name": "stdout",
     "output_type": "stream",
     "text": [
      "There are 1 duplicate entries among 7813737 entries in rating dataset.\n",
      "\n",
      "After removing duplicate entries there are 7813736 entries in this dataset.\n"
     ]
    }
   ],
   "source": [
    "dup_rating = rating[rating.duplicated()].shape[0]\n",
    "print(f\"There are {dup_rating} duplicate entries among {rating.shape[0]} entries in rating dataset.\")\n",
    "\n",
    "rating.drop_duplicates(keep='first',inplace=True)\n",
    "print(f\"\\nAfter removing duplicate entries there are {rating.shape[0]} entries in this dataset.\")"
   ]
  },
  {
   "cell_type": "code",
   "execution_count": 15,
   "id": "166f6f7c",
   "metadata": {
    "execution": {
     "iopub.execute_input": "2023-01-26T13:25:02.034174Z",
     "iopub.status.busy": "2023-01-26T13:25:02.033877Z",
     "iopub.status.idle": "2023-01-26T13:25:04.243730Z",
     "shell.execute_reply": "2023-01-26T13:25:04.242413Z"
    },
    "papermill": {
     "duration": 2.221649,
     "end_time": "2023-01-26T13:25:04.245947",
     "exception": false,
     "start_time": "2023-01-26T13:25:02.024298",
     "status": "completed"
    },
    "tags": []
   },
   "outputs": [
    {
     "name": "stdout",
     "output_type": "stream",
     "text": [
      "Shape of The Merged Dataset : (7813610, 9)\n",
      "\n",
      "Glimpse of The Merged Dataset :\n"
     ]
    },
    {
     "data": {
      "text/html": [
       "<div>\n",
       "<style scoped>\n",
       "    .dataframe tbody tr th:only-of-type {\n",
       "        vertical-align: middle;\n",
       "    }\n",
       "\n",
       "    .dataframe tbody tr th {\n",
       "        vertical-align: top;\n",
       "    }\n",
       "\n",
       "    .dataframe thead th {\n",
       "        text-align: right;\n",
       "    }\n",
       "</style>\n",
       "<table border=\"1\" class=\"dataframe\">\n",
       "  <thead>\n",
       "    <tr style=\"text-align: right;\">\n",
       "      <th></th>\n",
       "      <th>anime_id</th>\n",
       "      <th>name</th>\n",
       "      <th>genre</th>\n",
       "      <th>type</th>\n",
       "      <th>episodes</th>\n",
       "      <th>rating</th>\n",
       "      <th>members</th>\n",
       "      <th>user_id</th>\n",
       "      <th>user_rating</th>\n",
       "    </tr>\n",
       "  </thead>\n",
       "  <tbody>\n",
       "    <tr>\n",
       "      <th>0</th>\n",
       "      <td>32281</td>\n",
       "      <td>Kimi no Na wa.</td>\n",
       "      <td>Drama, Romance, School, Supernatural</td>\n",
       "      <td>Movie</td>\n",
       "      <td>1</td>\n",
       "      <td>9.37</td>\n",
       "      <td>200630</td>\n",
       "      <td>99</td>\n",
       "      <td>5</td>\n",
       "    </tr>\n",
       "    <tr>\n",
       "      <th>1</th>\n",
       "      <td>32281</td>\n",
       "      <td>Kimi no Na wa.</td>\n",
       "      <td>Drama, Romance, School, Supernatural</td>\n",
       "      <td>Movie</td>\n",
       "      <td>1</td>\n",
       "      <td>9.37</td>\n",
       "      <td>200630</td>\n",
       "      <td>152</td>\n",
       "      <td>10</td>\n",
       "    </tr>\n",
       "    <tr>\n",
       "      <th>2</th>\n",
       "      <td>32281</td>\n",
       "      <td>Kimi no Na wa.</td>\n",
       "      <td>Drama, Romance, School, Supernatural</td>\n",
       "      <td>Movie</td>\n",
       "      <td>1</td>\n",
       "      <td>9.37</td>\n",
       "      <td>200630</td>\n",
       "      <td>244</td>\n",
       "      <td>10</td>\n",
       "    </tr>\n",
       "    <tr>\n",
       "      <th>3</th>\n",
       "      <td>32281</td>\n",
       "      <td>Kimi no Na wa.</td>\n",
       "      <td>Drama, Romance, School, Supernatural</td>\n",
       "      <td>Movie</td>\n",
       "      <td>1</td>\n",
       "      <td>9.37</td>\n",
       "      <td>200630</td>\n",
       "      <td>271</td>\n",
       "      <td>10</td>\n",
       "    </tr>\n",
       "    <tr>\n",
       "      <th>4</th>\n",
       "      <td>32281</td>\n",
       "      <td>Kimi no Na wa.</td>\n",
       "      <td>Drama, Romance, School, Supernatural</td>\n",
       "      <td>Movie</td>\n",
       "      <td>1</td>\n",
       "      <td>9.37</td>\n",
       "      <td>200630</td>\n",
       "      <td>278</td>\n",
       "      <td>-1</td>\n",
       "    </tr>\n",
       "    <tr>\n",
       "      <th>5</th>\n",
       "      <td>32281</td>\n",
       "      <td>Kimi no Na wa.</td>\n",
       "      <td>Drama, Romance, School, Supernatural</td>\n",
       "      <td>Movie</td>\n",
       "      <td>1</td>\n",
       "      <td>9.37</td>\n",
       "      <td>200630</td>\n",
       "      <td>322</td>\n",
       "      <td>10</td>\n",
       "    </tr>\n",
       "    <tr>\n",
       "      <th>6</th>\n",
       "      <td>32281</td>\n",
       "      <td>Kimi no Na wa.</td>\n",
       "      <td>Drama, Romance, School, Supernatural</td>\n",
       "      <td>Movie</td>\n",
       "      <td>1</td>\n",
       "      <td>9.37</td>\n",
       "      <td>200630</td>\n",
       "      <td>398</td>\n",
       "      <td>10</td>\n",
       "    </tr>\n",
       "    <tr>\n",
       "      <th>7</th>\n",
       "      <td>32281</td>\n",
       "      <td>Kimi no Na wa.</td>\n",
       "      <td>Drama, Romance, School, Supernatural</td>\n",
       "      <td>Movie</td>\n",
       "      <td>1</td>\n",
       "      <td>9.37</td>\n",
       "      <td>200630</td>\n",
       "      <td>462</td>\n",
       "      <td>8</td>\n",
       "    </tr>\n",
       "    <tr>\n",
       "      <th>8</th>\n",
       "      <td>32281</td>\n",
       "      <td>Kimi no Na wa.</td>\n",
       "      <td>Drama, Romance, School, Supernatural</td>\n",
       "      <td>Movie</td>\n",
       "      <td>1</td>\n",
       "      <td>9.37</td>\n",
       "      <td>200630</td>\n",
       "      <td>490</td>\n",
       "      <td>10</td>\n",
       "    </tr>\n",
       "    <tr>\n",
       "      <th>9</th>\n",
       "      <td>32281</td>\n",
       "      <td>Kimi no Na wa.</td>\n",
       "      <td>Drama, Romance, School, Supernatural</td>\n",
       "      <td>Movie</td>\n",
       "      <td>1</td>\n",
       "      <td>9.37</td>\n",
       "      <td>200630</td>\n",
       "      <td>548</td>\n",
       "      <td>10</td>\n",
       "    </tr>\n",
       "  </tbody>\n",
       "</table>\n",
       "</div>"
      ],
      "text/plain": [
       "   anime_id            name                                 genre   type  \\\n",
       "0     32281  Kimi no Na wa.  Drama, Romance, School, Supernatural  Movie   \n",
       "1     32281  Kimi no Na wa.  Drama, Romance, School, Supernatural  Movie   \n",
       "2     32281  Kimi no Na wa.  Drama, Romance, School, Supernatural  Movie   \n",
       "3     32281  Kimi no Na wa.  Drama, Romance, School, Supernatural  Movie   \n",
       "4     32281  Kimi no Na wa.  Drama, Romance, School, Supernatural  Movie   \n",
       "5     32281  Kimi no Na wa.  Drama, Romance, School, Supernatural  Movie   \n",
       "6     32281  Kimi no Na wa.  Drama, Romance, School, Supernatural  Movie   \n",
       "7     32281  Kimi no Na wa.  Drama, Romance, School, Supernatural  Movie   \n",
       "8     32281  Kimi no Na wa.  Drama, Romance, School, Supernatural  Movie   \n",
       "9     32281  Kimi no Na wa.  Drama, Romance, School, Supernatural  Movie   \n",
       "\n",
       "  episodes  rating  members  user_id  user_rating  \n",
       "0        1    9.37   200630       99            5  \n",
       "1        1    9.37   200630      152           10  \n",
       "2        1    9.37   200630      244           10  \n",
       "3        1    9.37   200630      271           10  \n",
       "4        1    9.37   200630      278           -1  \n",
       "5        1    9.37   200630      322           10  \n",
       "6        1    9.37   200630      398           10  \n",
       "7        1    9.37   200630      462            8  \n",
       "8        1    9.37   200630      490           10  \n",
       "9        1    9.37   200630      548           10  "
      ]
     },
     "execution_count": 15,
     "metadata": {},
     "output_type": "execute_result"
    }
   ],
   "source": [
    "fulldata = pd.merge(anime,rating,on=\"anime_id\",suffixes=[None, \"_user\"])\n",
    "fulldata = fulldata.rename(columns={\"rating_user\": \"user_rating\"})\n",
    "\n",
    "print(f\"Shape of The Merged Dataset : {fulldata.shape}\")\n",
    "print(f\"\\nGlimpse of The Merged Dataset :\")\n",
    "\n",
    "fulldata.head(10)"
   ]
  },
  {
   "cell_type": "markdown",
   "id": "69011b64",
   "metadata": {
    "papermill": {
     "duration": 0.008798,
     "end_time": "2023-01-26T13:25:04.264164",
     "exception": false,
     "start_time": "2023-01-26T13:25:04.255366",
     "status": "completed"
    },
    "tags": []
   },
   "source": [
    "# **EDA**"
   ]
  },
  {
   "cell_type": "code",
   "execution_count": 16,
   "id": "5fa09970",
   "metadata": {
    "_kg_hide-input": true,
    "execution": {
     "iopub.execute_input": "2023-01-26T13:25:04.283501Z",
     "iopub.status.busy": "2023-01-26T13:25:04.282702Z",
     "iopub.status.idle": "2023-01-26T13:25:06.034071Z",
     "shell.execute_reply": "2023-01-26T13:25:06.033071Z"
    },
    "papermill": {
     "duration": 1.764231,
     "end_time": "2023-01-26T13:25:06.037198",
     "exception": false,
     "start_time": "2023-01-26T13:25:04.272967",
     "status": "completed"
    },
    "tags": []
   },
   "outputs": [
    {
     "data": {
      "image/png": "[encoded data removed]",
      "text/plain": [
       "<Figure size 1440x576 with 1 Axes>"
      ]
     },
     "metadata": {
      "needs_background": "light"
     },
     "output_type": "display_data"
    }
   ],
   "source": [
    "top_anime = fulldata.copy()\n",
    "top_anime.drop_duplicates(subset =\"name\", keep = \"first\", inplace = True)\n",
    "top_anime_temp1 = top_anime.sort_values([\"members\"],ascending=False)\n",
    "\n",
    "plt.subplots(figsize=(20,8))\n",
    "p = sns.barplot(x=top_anime_temp1[\"name\"][:10],\n",
    "                y=top_anime_temp1[\"members\"], \n",
    "                saturation = 1, \n",
    "                linewidth = 1)\n",
    "\n",
    "p.axes.set_title(\"\\nTop Anime Community\\n\", fontsize=25)\n",
    "plt.ylabel(\"Total Member\" , fontsize = 20)\n",
    "plt.xlabel(\"\\nAnime Name\" , fontsize = 20)\n",
    "# plt.yscale(\"log\")\n",
    "plt.xticks(rotation = 80)\n",
    "for container in p.containers:\n",
    "    p.bar_label(container,label_type = \"center\",padding = 6,size = 15,color = \"black\",rotation = 90)\n",
    "\n",
    "sns.despine(left=True, bottom=True)\n",
    "plt.show()"
   ]
  },
  {
   "cell_type": "code",
   "execution_count": 17,
   "id": "8dc65c79",
   "metadata": {
    "_kg_hide-input": true,
    "execution": {
     "iopub.execute_input": "2023-01-26T13:25:06.062996Z",
     "iopub.status.busy": "2023-01-26T13:25:06.062685Z",
     "iopub.status.idle": "2023-01-26T13:25:06.318967Z",
     "shell.execute_reply": "2023-01-26T13:25:06.317958Z"
    },
    "papermill": {
     "duration": 0.269154,
     "end_time": "2023-01-26T13:25:06.321187",
     "exception": false,
     "start_time": "2023-01-26T13:25:06.052033",
     "status": "completed"
    },
    "tags": []
   },
   "outputs": [
    {
     "data": {
      "image/png": "[encoded data removed]",
      "text/plain": [
       "<Figure size 1440x576 with 1 Axes>"
      ]
     },
     "metadata": {
      "needs_background": "light"
     },
     "output_type": "display_data"
    }
   ],
   "source": [
    "plt.subplots(figsize = (20,8))\n",
    "p = sns.countplot(x = top_anime_temp1[\"type\"], \n",
    "                  order = top_anime_temp1[\"type\"].value_counts().index, saturation = 1,linewidth = 3)\n",
    "\n",
    "p.axes.set_title(\"\\nAnime Categories Hub\\n\" ,fontsize = 25)\n",
    "plt.ylabel(\"Total Anime\" ,fontsize = 20)\n",
    "plt.xlabel(\"\\nAnime Category\" ,fontsize = 20)\n",
    "plt.xticks(rotation = 0)\n",
    "for container in p.containers:\n",
    "    p.bar_label(container,label_type = \"center\",padding = 10,size = 25,color = \"black\",rotation = 0)\n",
    "\n",
    "sns.despine(left = True, bottom = True)\n",
    "plt.show()"
   ]
  },
  {
   "cell_type": "code",
   "execution_count": 18,
   "id": "d8f544b0",
   "metadata": {
    "_kg_hide-input": true,
    "execution": {
     "iopub.execute_input": "2023-01-26T13:25:06.342690Z",
     "iopub.status.busy": "2023-01-26T13:25:06.342390Z",
     "iopub.status.idle": "2023-01-26T13:25:06.667394Z",
     "shell.execute_reply": "2023-01-26T13:25:06.666463Z"
    },
    "papermill": {
     "duration": 0.338055,
     "end_time": "2023-01-26T13:25:06.669518",
     "exception": false,
     "start_time": "2023-01-26T13:25:06.331463",
     "status": "completed"
    },
    "tags": []
   },
   "outputs": [
    {
     "data": {
      "image/png": "[encoded data removed]",
      "text/plain": [
       "<Figure size 1440x576 with 1 Axes>"
      ]
     },
     "metadata": {
      "needs_background": "light"
     },
     "output_type": "display_data"
    }
   ],
   "source": [
    "top_anime_temp2 = top_anime.sort_values([\"rating\"],ascending=False)\n",
    "\n",
    "plt.subplots(figsize=(20,8))\n",
    "p = sns.barplot(x=top_anime_temp2[\"name\"][:10],y=top_anime_temp2[\"rating\"], saturation=1, linewidth = 2)\n",
    "p.axes.set_title(\"\\nTop Animes Based On Ratings\\n\",fontsize = 25)\n",
    "plt.ylabel(\"Average Rating\",fontsize = 20)\n",
    "plt.xlabel(\"\\nAnime Title\",fontsize = 20)\n",
    "\n",
    "plt.xticks(rotation = 80)\n",
    "for container in p.containers:\n",
    "    p.bar_label(container,label_type = \"center\",padding = 10,size = 15,color = \"black\",rotation = 0)\n",
    "\n",
    "sns.despine(left=True, bottom=True)\n",
    "plt.show()"
   ]
  },
  {
   "cell_type": "code",
   "execution_count": 19,
   "id": "fdd1ded2",
   "metadata": {
    "_kg_hide-input": true,
    "execution": {
     "iopub.execute_input": "2023-01-26T13:25:06.693309Z",
     "iopub.status.busy": "2023-01-26T13:25:06.692397Z",
     "iopub.status.idle": "2023-01-26T13:25:07.047480Z",
     "shell.execute_reply": "2023-01-26T13:25:07.046444Z"
    },
    "papermill": {
     "duration": 0.368966,
     "end_time": "2023-01-26T13:25:07.049705",
     "exception": false,
     "start_time": "2023-01-26T13:25:06.680739",
     "status": "completed"
    },
    "tags": []
   },
   "outputs": [
    {
     "name": "stderr",
     "output_type": "stream",
     "text": [
      "/opt/conda/lib/python3.7/site-packages/ipykernel_launcher.py:2: SettingWithCopyWarning: \n",
      "A value is trying to be set on a copy of a slice from a DataFrame.\n",
      "Try using .loc[row_indexer,col_indexer] = value instead\n",
      "\n",
      "See the caveats in the documentation: https://pandas.pydata.org/pandas-docs/stable/user_guide/indexing.html#returning-a-view-versus-a-copy\n",
      "  \n"
     ]
    },
    {
     "name": "stdout",
     "output_type": "stream",
     "text": [
      "Total unique genres are 43\n"
     ]
    },
    {
     "data": {
      "image/png": "[encoded data removed]",
      "text/plain": [
       "<Figure size 1440x576 with 1 Axes>"
      ]
     },
     "metadata": {
      "needs_background": "light"
     },
     "output_type": "display_data"
    }
   ],
   "source": [
    "top_anime_temp3 = top_anime[[\"genre\"]]\n",
    "top_anime_temp3[\"genre\"] = top_anime_temp3[\"genre\"].str.split(\", | , | ,\")\n",
    "top_anime_temp3 = top_anime_temp3.explode(\"genre\")\n",
    "top_anime_temp3[\"genre\"] = top_anime_temp3[\"genre\"].str.title()\n",
    "print(f'Total unique genres are {len(top_anime_temp3[\"genre\"].unique())}')\n",
    "top_anime_temp3[\"genre\"].value_counts().to_frame().head(10)\n",
    "\n",
    "df = top_anime_temp3[\"genre\"].value_counts().to_frame().head(10)\n",
    "plt.subplots(figsize=(20,8))\n",
    "p = sns.barplot(x=df.index, y=df[\"genre\"],saturation=1, linewidth = 2)\n",
    "p.axes.set_title(\"\\nJumlah Anime berdasarkan Genre\\n\",fontsize = 25)\n",
    "plt.ylabel(\"\",fontsize = 20)\n",
    "plt.xlabel(\"\\n Anime Genre\",fontsize = 20)\n",
    "\n",
    "plt.xticks(rotation = 80)\n",
    "for container in p.containers:\n",
    "    p.bar_label(container,label_type = \"center\",padding = 10,size = 15,color = \"black\",rotation = 0)\n",
    "\n",
    "sns.despine(left=True, bottom=True)\n",
    "plt.show()"
   ]
  },
  {
   "cell_type": "code",
   "execution_count": 20,
   "id": "edefdebc",
   "metadata": {
    "_kg_hide-input": true,
    "execution": {
     "iopub.execute_input": "2023-01-26T13:25:07.077061Z",
     "iopub.status.busy": "2023-01-26T13:25:07.076690Z",
     "iopub.status.idle": "2023-01-26T13:25:10.501467Z",
     "shell.execute_reply": "2023-01-26T13:25:10.500533Z"
    },
    "papermill": {
     "duration": 3.441539,
     "end_time": "2023-01-26T13:25:10.503647",
     "exception": false,
     "start_time": "2023-01-26T13:25:07.062108",
     "status": "completed"
    },
    "tags": []
   },
   "outputs": [
    {
     "name": "stdout",
     "output_type": "stream",
     "text": [
      "Null values after final pre-processing :\n"
     ]
    },
    {
     "data": {
      "text/plain": [
       "anime_id       0\n",
       "name           0\n",
       "genre          0\n",
       "type           0\n",
       "episodes       0\n",
       "rating         0\n",
       "members        0\n",
       "user_id        0\n",
       "user_rating    0\n",
       "dtype: int64"
      ]
     },
     "execution_count": 20,
     "metadata": {},
     "output_type": "execute_result"
    }
   ],
   "source": [
    "data = fulldata.copy()\n",
    "data[\"user_rating\"].replace(to_replace = -1 , value = np.nan ,inplace=True)\n",
    "data = data.dropna(axis = 0)\n",
    "print(\"Null values after final pre-processing :\")\n",
    "data.isna().sum()"
   ]
  },
  {
   "cell_type": "markdown",
   "id": "2069e857",
   "metadata": {
    "papermill": {
     "duration": 0.011322,
     "end_time": "2023-01-26T13:25:10.527010",
     "exception": false,
     "start_time": "2023-01-26T13:25:10.515688",
     "status": "completed"
    },
    "tags": []
   },
   "source": [
    "There are a lot of users who have rated only once, even if they have rated 5 animes, it can't be considered as a valuable record for recommendation. So we will consider minimum 50 ratings by the user as a threshold value."
   ]
  },
  {
   "cell_type": "code",
   "execution_count": 21,
   "id": "0e2a4995",
   "metadata": {
    "_kg_hide-input": true,
    "execution": {
     "iopub.execute_input": "2023-01-26T13:25:10.551721Z",
     "iopub.status.busy": "2023-01-26T13:25:10.550881Z",
     "iopub.status.idle": "2023-01-26T13:25:11.310127Z",
     "shell.execute_reply": "2023-01-26T13:25:11.309113Z"
    },
    "papermill": {
     "duration": 0.774141,
     "end_time": "2023-01-26T13:25:11.312567",
     "exception": false,
     "start_time": "2023-01-26T13:25:10.538426",
     "status": "completed"
    },
    "tags": []
   },
   "outputs": [],
   "source": [
    "selected_users = data[\"user_id\"].value_counts()\n",
    "data = data[data[\"user_id\"].isin(selected_users[selected_users >= 50].index)]"
   ]
  },
  {
   "cell_type": "markdown",
   "id": "0c4f2613",
   "metadata": {
    "papermill": {
     "duration": 0.011343,
     "end_time": "2023-01-26T13:25:11.336047",
     "exception": false,
     "start_time": "2023-01-26T13:25:11.324704",
     "status": "completed"
    },
    "tags": []
   },
   "source": [
    "We will create a pivot table consists of rows as title and columns as user id, this will help us to create sparse matrix which can be very helpful in finding the cosine similarity."
   ]
  },
  {
   "cell_type": "code",
   "execution_count": 22,
   "id": "8888f4f5",
   "metadata": {
    "execution": {
     "iopub.execute_input": "2023-01-26T13:25:11.360906Z",
     "iopub.status.busy": "2023-01-26T13:25:11.360564Z",
     "iopub.status.idle": "2023-01-26T13:25:47.579056Z",
     "shell.execute_reply": "2023-01-26T13:25:47.578025Z"
    },
    "papermill": {
     "duration": 36.233773,
     "end_time": "2023-01-26T13:25:47.581462",
     "exception": false,
     "start_time": "2023-01-26T13:25:11.347689",
     "status": "completed"
    },
    "tags": []
   },
   "outputs": [],
   "source": [
    "import re\n",
    "def text_cleaning(text):\n",
    "    text = re.sub(r'&quot;', '', text)\n",
    "    text = re.sub(r'.hack//', '', text)\n",
    "    text = re.sub(r'&#039;', '', text)\n",
    "    text = re.sub(r'A&#039;s', '', text)\n",
    "    text = re.sub(r'I&#039;', 'I\\'', text)\n",
    "    text = re.sub(r'&amp;', 'and', text)\n",
    "    \n",
    "    return text\n",
    "\n",
    "data[\"name\"] = data[\"name\"].apply(text_cleaning)"
   ]
  },
  {
   "cell_type": "code",
   "execution_count": 23,
   "id": "8f5b67aa",
   "metadata": {
    "execution": {
     "iopub.execute_input": "2023-01-26T13:25:47.606599Z",
     "iopub.status.busy": "2023-01-26T13:25:47.606248Z",
     "iopub.status.idle": "2023-01-26T13:25:47.631277Z",
     "shell.execute_reply": "2023-01-26T13:25:47.630255Z"
    },
    "papermill": {
     "duration": 0.040303,
     "end_time": "2023-01-26T13:25:47.633876",
     "exception": false,
     "start_time": "2023-01-26T13:25:47.593573",
     "status": "completed"
    },
    "tags": []
   },
   "outputs": [
    {
     "data": {
      "text/html": [
       "<div>\n",
       "<style scoped>\n",
       "    .dataframe tbody tr th:only-of-type {\n",
       "        vertical-align: middle;\n",
       "    }\n",
       "\n",
       "    .dataframe tbody tr th {\n",
       "        vertical-align: top;\n",
       "    }\n",
       "\n",
       "    .dataframe thead th {\n",
       "        text-align: right;\n",
       "    }\n",
       "</style>\n",
       "<table border=\"1\" class=\"dataframe\">\n",
       "  <thead>\n",
       "    <tr style=\"text-align: right;\">\n",
       "      <th></th>\n",
       "      <th>anime_id</th>\n",
       "      <th>name</th>\n",
       "      <th>genre</th>\n",
       "      <th>type</th>\n",
       "      <th>episodes</th>\n",
       "      <th>rating</th>\n",
       "      <th>members</th>\n",
       "      <th>user_id</th>\n",
       "      <th>user_rating</th>\n",
       "    </tr>\n",
       "  </thead>\n",
       "  <tbody>\n",
       "    <tr>\n",
       "      <th>0</th>\n",
       "      <td>32281</td>\n",
       "      <td>Kimi no Na wa.</td>\n",
       "      <td>Drama, Romance, School, Supernatural</td>\n",
       "      <td>Movie</td>\n",
       "      <td>1</td>\n",
       "      <td>9.37</td>\n",
       "      <td>200630</td>\n",
       "      <td>99</td>\n",
       "      <td>5.0</td>\n",
       "    </tr>\n",
       "    <tr>\n",
       "      <th>1</th>\n",
       "      <td>32281</td>\n",
       "      <td>Kimi no Na wa.</td>\n",
       "      <td>Drama, Romance, School, Supernatural</td>\n",
       "      <td>Movie</td>\n",
       "      <td>1</td>\n",
       "      <td>9.37</td>\n",
       "      <td>200630</td>\n",
       "      <td>152</td>\n",
       "      <td>10.0</td>\n",
       "    </tr>\n",
       "    <tr>\n",
       "      <th>2</th>\n",
       "      <td>32281</td>\n",
       "      <td>Kimi no Na wa.</td>\n",
       "      <td>Drama, Romance, School, Supernatural</td>\n",
       "      <td>Movie</td>\n",
       "      <td>1</td>\n",
       "      <td>9.37</td>\n",
       "      <td>200630</td>\n",
       "      <td>244</td>\n",
       "      <td>10.0</td>\n",
       "    </tr>\n",
       "    <tr>\n",
       "      <th>3</th>\n",
       "      <td>32281</td>\n",
       "      <td>Kimi no Na wa.</td>\n",
       "      <td>Drama, Romance, School, Supernatural</td>\n",
       "      <td>Movie</td>\n",
       "      <td>1</td>\n",
       "      <td>9.37</td>\n",
       "      <td>200630</td>\n",
       "      <td>271</td>\n",
       "      <td>10.0</td>\n",
       "    </tr>\n",
       "    <tr>\n",
       "      <th>5</th>\n",
       "      <td>32281</td>\n",
       "      <td>Kimi no Na wa.</td>\n",
       "      <td>Drama, Romance, School, Supernatural</td>\n",
       "      <td>Movie</td>\n",
       "      <td>1</td>\n",
       "      <td>9.37</td>\n",
       "      <td>200630</td>\n",
       "      <td>322</td>\n",
       "      <td>10.0</td>\n",
       "    </tr>\n",
       "    <tr>\n",
       "      <th>7</th>\n",
       "      <td>32281</td>\n",
       "      <td>Kimi no Na wa.</td>\n",
       "      <td>Drama, Romance, School, Supernatural</td>\n",
       "      <td>Movie</td>\n",
       "      <td>1</td>\n",
       "      <td>9.37</td>\n",
       "      <td>200630</td>\n",
       "      <td>462</td>\n",
       "      <td>8.0</td>\n",
       "    </tr>\n",
       "    <tr>\n",
       "      <th>9</th>\n",
       "      <td>32281</td>\n",
       "      <td>Kimi no Na wa.</td>\n",
       "      <td>Drama, Romance, School, Supernatural</td>\n",
       "      <td>Movie</td>\n",
       "      <td>1</td>\n",
       "      <td>9.37</td>\n",
       "      <td>200630</td>\n",
       "      <td>548</td>\n",
       "      <td>10.0</td>\n",
       "    </tr>\n",
       "    <tr>\n",
       "      <th>10</th>\n",
       "      <td>32281</td>\n",
       "      <td>Kimi no Na wa.</td>\n",
       "      <td>Drama, Romance, School, Supernatural</td>\n",
       "      <td>Movie</td>\n",
       "      <td>1</td>\n",
       "      <td>9.37</td>\n",
       "      <td>200630</td>\n",
       "      <td>570</td>\n",
       "      <td>10.0</td>\n",
       "    </tr>\n",
       "    <tr>\n",
       "      <th>11</th>\n",
       "      <td>32281</td>\n",
       "      <td>Kimi no Na wa.</td>\n",
       "      <td>Drama, Romance, School, Supernatural</td>\n",
       "      <td>Movie</td>\n",
       "      <td>1</td>\n",
       "      <td>9.37</td>\n",
       "      <td>200630</td>\n",
       "      <td>598</td>\n",
       "      <td>10.0</td>\n",
       "    </tr>\n",
       "    <tr>\n",
       "      <th>12</th>\n",
       "      <td>32281</td>\n",
       "      <td>Kimi no Na wa.</td>\n",
       "      <td>Drama, Romance, School, Supernatural</td>\n",
       "      <td>Movie</td>\n",
       "      <td>1</td>\n",
       "      <td>9.37</td>\n",
       "      <td>200630</td>\n",
       "      <td>612</td>\n",
       "      <td>9.0</td>\n",
       "    </tr>\n",
       "    <tr>\n",
       "      <th>14</th>\n",
       "      <td>32281</td>\n",
       "      <td>Kimi no Na wa.</td>\n",
       "      <td>Drama, Romance, School, Supernatural</td>\n",
       "      <td>Movie</td>\n",
       "      <td>1</td>\n",
       "      <td>9.37</td>\n",
       "      <td>200630</td>\n",
       "      <td>784</td>\n",
       "      <td>9.0</td>\n",
       "    </tr>\n",
       "    <tr>\n",
       "      <th>15</th>\n",
       "      <td>32281</td>\n",
       "      <td>Kimi no Na wa.</td>\n",
       "      <td>Drama, Romance, School, Supernatural</td>\n",
       "      <td>Movie</td>\n",
       "      <td>1</td>\n",
       "      <td>9.37</td>\n",
       "      <td>200630</td>\n",
       "      <td>786</td>\n",
       "      <td>10.0</td>\n",
       "    </tr>\n",
       "    <tr>\n",
       "      <th>16</th>\n",
       "      <td>32281</td>\n",
       "      <td>Kimi no Na wa.</td>\n",
       "      <td>Drama, Romance, School, Supernatural</td>\n",
       "      <td>Movie</td>\n",
       "      <td>1</td>\n",
       "      <td>9.37</td>\n",
       "      <td>200630</td>\n",
       "      <td>792</td>\n",
       "      <td>8.0</td>\n",
       "    </tr>\n",
       "    <tr>\n",
       "      <th>17</th>\n",
       "      <td>32281</td>\n",
       "      <td>Kimi no Na wa.</td>\n",
       "      <td>Drama, Romance, School, Supernatural</td>\n",
       "      <td>Movie</td>\n",
       "      <td>1</td>\n",
       "      <td>9.37</td>\n",
       "      <td>200630</td>\n",
       "      <td>894</td>\n",
       "      <td>9.0</td>\n",
       "    </tr>\n",
       "    <tr>\n",
       "      <th>19</th>\n",
       "      <td>32281</td>\n",
       "      <td>Kimi no Na wa.</td>\n",
       "      <td>Drama, Romance, School, Supernatural</td>\n",
       "      <td>Movie</td>\n",
       "      <td>1</td>\n",
       "      <td>9.37</td>\n",
       "      <td>200630</td>\n",
       "      <td>929</td>\n",
       "      <td>10.0</td>\n",
       "    </tr>\n",
       "    <tr>\n",
       "      <th>20</th>\n",
       "      <td>32281</td>\n",
       "      <td>Kimi no Na wa.</td>\n",
       "      <td>Drama, Romance, School, Supernatural</td>\n",
       "      <td>Movie</td>\n",
       "      <td>1</td>\n",
       "      <td>9.37</td>\n",
       "      <td>200630</td>\n",
       "      <td>933</td>\n",
       "      <td>10.0</td>\n",
       "    </tr>\n",
       "    <tr>\n",
       "      <th>21</th>\n",
       "      <td>32281</td>\n",
       "      <td>Kimi no Na wa.</td>\n",
       "      <td>Drama, Romance, School, Supernatural</td>\n",
       "      <td>Movie</td>\n",
       "      <td>1</td>\n",
       "      <td>9.37</td>\n",
       "      <td>200630</td>\n",
       "      <td>937</td>\n",
       "      <td>10.0</td>\n",
       "    </tr>\n",
       "    <tr>\n",
       "      <th>22</th>\n",
       "      <td>32281</td>\n",
       "      <td>Kimi no Na wa.</td>\n",
       "      <td>Drama, Romance, School, Supernatural</td>\n",
       "      <td>Movie</td>\n",
       "      <td>1</td>\n",
       "      <td>9.37</td>\n",
       "      <td>200630</td>\n",
       "      <td>979</td>\n",
       "      <td>10.0</td>\n",
       "    </tr>\n",
       "    <tr>\n",
       "      <th>23</th>\n",
       "      <td>32281</td>\n",
       "      <td>Kimi no Na wa.</td>\n",
       "      <td>Drama, Romance, School, Supernatural</td>\n",
       "      <td>Movie</td>\n",
       "      <td>1</td>\n",
       "      <td>9.37</td>\n",
       "      <td>200630</td>\n",
       "      <td>996</td>\n",
       "      <td>7.0</td>\n",
       "    </tr>\n",
       "    <tr>\n",
       "      <th>24</th>\n",
       "      <td>32281</td>\n",
       "      <td>Kimi no Na wa.</td>\n",
       "      <td>Drama, Romance, School, Supernatural</td>\n",
       "      <td>Movie</td>\n",
       "      <td>1</td>\n",
       "      <td>9.37</td>\n",
       "      <td>200630</td>\n",
       "      <td>1013</td>\n",
       "      <td>10.0</td>\n",
       "    </tr>\n",
       "    <tr>\n",
       "      <th>25</th>\n",
       "      <td>32281</td>\n",
       "      <td>Kimi no Na wa.</td>\n",
       "      <td>Drama, Romance, School, Supernatural</td>\n",
       "      <td>Movie</td>\n",
       "      <td>1</td>\n",
       "      <td>9.37</td>\n",
       "      <td>200630</td>\n",
       "      <td>1031</td>\n",
       "      <td>10.0</td>\n",
       "    </tr>\n",
       "    <tr>\n",
       "      <th>26</th>\n",
       "      <td>32281</td>\n",
       "      <td>Kimi no Na wa.</td>\n",
       "      <td>Drama, Romance, School, Supernatural</td>\n",
       "      <td>Movie</td>\n",
       "      <td>1</td>\n",
       "      <td>9.37</td>\n",
       "      <td>200630</td>\n",
       "      <td>1081</td>\n",
       "      <td>10.0</td>\n",
       "    </tr>\n",
       "    <tr>\n",
       "      <th>27</th>\n",
       "      <td>32281</td>\n",
       "      <td>Kimi no Na wa.</td>\n",
       "      <td>Drama, Romance, School, Supernatural</td>\n",
       "      <td>Movie</td>\n",
       "      <td>1</td>\n",
       "      <td>9.37</td>\n",
       "      <td>200630</td>\n",
       "      <td>1116</td>\n",
       "      <td>6.0</td>\n",
       "    </tr>\n",
       "    <tr>\n",
       "      <th>28</th>\n",
       "      <td>32281</td>\n",
       "      <td>Kimi no Na wa.</td>\n",
       "      <td>Drama, Romance, School, Supernatural</td>\n",
       "      <td>Movie</td>\n",
       "      <td>1</td>\n",
       "      <td>9.37</td>\n",
       "      <td>200630</td>\n",
       "      <td>1131</td>\n",
       "      <td>10.0</td>\n",
       "    </tr>\n",
       "    <tr>\n",
       "      <th>30</th>\n",
       "      <td>32281</td>\n",
       "      <td>Kimi no Na wa.</td>\n",
       "      <td>Drama, Romance, School, Supernatural</td>\n",
       "      <td>Movie</td>\n",
       "      <td>1</td>\n",
       "      <td>9.37</td>\n",
       "      <td>200630</td>\n",
       "      <td>1222</td>\n",
       "      <td>10.0</td>\n",
       "    </tr>\n",
       "    <tr>\n",
       "      <th>32</th>\n",
       "      <td>32281</td>\n",
       "      <td>Kimi no Na wa.</td>\n",
       "      <td>Drama, Romance, School, Supernatural</td>\n",
       "      <td>Movie</td>\n",
       "      <td>1</td>\n",
       "      <td>9.37</td>\n",
       "      <td>200630</td>\n",
       "      <td>1291</td>\n",
       "      <td>10.0</td>\n",
       "    </tr>\n",
       "    <tr>\n",
       "      <th>33</th>\n",
       "      <td>32281</td>\n",
       "      <td>Kimi no Na wa.</td>\n",
       "      <td>Drama, Romance, School, Supernatural</td>\n",
       "      <td>Movie</td>\n",
       "      <td>1</td>\n",
       "      <td>9.37</td>\n",
       "      <td>200630</td>\n",
       "      <td>1309</td>\n",
       "      <td>9.0</td>\n",
       "    </tr>\n",
       "    <tr>\n",
       "      <th>34</th>\n",
       "      <td>32281</td>\n",
       "      <td>Kimi no Na wa.</td>\n",
       "      <td>Drama, Romance, School, Supernatural</td>\n",
       "      <td>Movie</td>\n",
       "      <td>1</td>\n",
       "      <td>9.37</td>\n",
       "      <td>200630</td>\n",
       "      <td>1378</td>\n",
       "      <td>10.0</td>\n",
       "    </tr>\n",
       "    <tr>\n",
       "      <th>36</th>\n",
       "      <td>32281</td>\n",
       "      <td>Kimi no Na wa.</td>\n",
       "      <td>Drama, Romance, School, Supernatural</td>\n",
       "      <td>Movie</td>\n",
       "      <td>1</td>\n",
       "      <td>9.37</td>\n",
       "      <td>200630</td>\n",
       "      <td>1441</td>\n",
       "      <td>10.0</td>\n",
       "    </tr>\n",
       "    <tr>\n",
       "      <th>37</th>\n",
       "      <td>32281</td>\n",
       "      <td>Kimi no Na wa.</td>\n",
       "      <td>Drama, Romance, School, Supernatural</td>\n",
       "      <td>Movie</td>\n",
       "      <td>1</td>\n",
       "      <td>9.37</td>\n",
       "      <td>200630</td>\n",
       "      <td>1487</td>\n",
       "      <td>8.0</td>\n",
       "    </tr>\n",
       "    <tr>\n",
       "      <th>38</th>\n",
       "      <td>32281</td>\n",
       "      <td>Kimi no Na wa.</td>\n",
       "      <td>Drama, Romance, School, Supernatural</td>\n",
       "      <td>Movie</td>\n",
       "      <td>1</td>\n",
       "      <td>9.37</td>\n",
       "      <td>200630</td>\n",
       "      <td>1497</td>\n",
       "      <td>10.0</td>\n",
       "    </tr>\n",
       "    <tr>\n",
       "      <th>39</th>\n",
       "      <td>32281</td>\n",
       "      <td>Kimi no Na wa.</td>\n",
       "      <td>Drama, Romance, School, Supernatural</td>\n",
       "      <td>Movie</td>\n",
       "      <td>1</td>\n",
       "      <td>9.37</td>\n",
       "      <td>200630</td>\n",
       "      <td>1504</td>\n",
       "      <td>10.0</td>\n",
       "    </tr>\n",
       "    <tr>\n",
       "      <th>40</th>\n",
       "      <td>32281</td>\n",
       "      <td>Kimi no Na wa.</td>\n",
       "      <td>Drama, Romance, School, Supernatural</td>\n",
       "      <td>Movie</td>\n",
       "      <td>1</td>\n",
       "      <td>9.37</td>\n",
       "      <td>200630</td>\n",
       "      <td>1522</td>\n",
       "      <td>8.0</td>\n",
       "    </tr>\n",
       "    <tr>\n",
       "      <th>42</th>\n",
       "      <td>32281</td>\n",
       "      <td>Kimi no Na wa.</td>\n",
       "      <td>Drama, Romance, School, Supernatural</td>\n",
       "      <td>Movie</td>\n",
       "      <td>1</td>\n",
       "      <td>9.37</td>\n",
       "      <td>200630</td>\n",
       "      <td>1620</td>\n",
       "      <td>10.0</td>\n",
       "    </tr>\n",
       "    <tr>\n",
       "      <th>43</th>\n",
       "      <td>32281</td>\n",
       "      <td>Kimi no Na wa.</td>\n",
       "      <td>Drama, Romance, School, Supernatural</td>\n",
       "      <td>Movie</td>\n",
       "      <td>1</td>\n",
       "      <td>9.37</td>\n",
       "      <td>200630</td>\n",
       "      <td>1795</td>\n",
       "      <td>10.0</td>\n",
       "    </tr>\n",
       "    <tr>\n",
       "      <th>44</th>\n",
       "      <td>32281</td>\n",
       "      <td>Kimi no Na wa.</td>\n",
       "      <td>Drama, Romance, School, Supernatural</td>\n",
       "      <td>Movie</td>\n",
       "      <td>1</td>\n",
       "      <td>9.37</td>\n",
       "      <td>200630</td>\n",
       "      <td>1862</td>\n",
       "      <td>9.0</td>\n",
       "    </tr>\n",
       "    <tr>\n",
       "      <th>45</th>\n",
       "      <td>32281</td>\n",
       "      <td>Kimi no Na wa.</td>\n",
       "      <td>Drama, Romance, School, Supernatural</td>\n",
       "      <td>Movie</td>\n",
       "      <td>1</td>\n",
       "      <td>9.37</td>\n",
       "      <td>200630</td>\n",
       "      <td>1867</td>\n",
       "      <td>10.0</td>\n",
       "    </tr>\n",
       "    <tr>\n",
       "      <th>46</th>\n",
       "      <td>32281</td>\n",
       "      <td>Kimi no Na wa.</td>\n",
       "      <td>Drama, Romance, School, Supernatural</td>\n",
       "      <td>Movie</td>\n",
       "      <td>1</td>\n",
       "      <td>9.37</td>\n",
       "      <td>200630</td>\n",
       "      <td>1918</td>\n",
       "      <td>9.0</td>\n",
       "    </tr>\n",
       "    <tr>\n",
       "      <th>47</th>\n",
       "      <td>32281</td>\n",
       "      <td>Kimi no Na wa.</td>\n",
       "      <td>Drama, Romance, School, Supernatural</td>\n",
       "      <td>Movie</td>\n",
       "      <td>1</td>\n",
       "      <td>9.37</td>\n",
       "      <td>200630</td>\n",
       "      <td>1937</td>\n",
       "      <td>10.0</td>\n",
       "    </tr>\n",
       "    <tr>\n",
       "      <th>48</th>\n",
       "      <td>32281</td>\n",
       "      <td>Kimi no Na wa.</td>\n",
       "      <td>Drama, Romance, School, Supernatural</td>\n",
       "      <td>Movie</td>\n",
       "      <td>1</td>\n",
       "      <td>9.37</td>\n",
       "      <td>200630</td>\n",
       "      <td>1963</td>\n",
       "      <td>10.0</td>\n",
       "    </tr>\n",
       "    <tr>\n",
       "      <th>49</th>\n",
       "      <td>32281</td>\n",
       "      <td>Kimi no Na wa.</td>\n",
       "      <td>Drama, Romance, School, Supernatural</td>\n",
       "      <td>Movie</td>\n",
       "      <td>1</td>\n",
       "      <td>9.37</td>\n",
       "      <td>200630</td>\n",
       "      <td>1987</td>\n",
       "      <td>10.0</td>\n",
       "    </tr>\n",
       "    <tr>\n",
       "      <th>50</th>\n",
       "      <td>32281</td>\n",
       "      <td>Kimi no Na wa.</td>\n",
       "      <td>Drama, Romance, School, Supernatural</td>\n",
       "      <td>Movie</td>\n",
       "      <td>1</td>\n",
       "      <td>9.37</td>\n",
       "      <td>200630</td>\n",
       "      <td>2015</td>\n",
       "      <td>10.0</td>\n",
       "    </tr>\n",
       "    <tr>\n",
       "      <th>51</th>\n",
       "      <td>32281</td>\n",
       "      <td>Kimi no Na wa.</td>\n",
       "      <td>Drama, Romance, School, Supernatural</td>\n",
       "      <td>Movie</td>\n",
       "      <td>1</td>\n",
       "      <td>9.37</td>\n",
       "      <td>200630</td>\n",
       "      <td>2016</td>\n",
       "      <td>10.0</td>\n",
       "    </tr>\n",
       "    <tr>\n",
       "      <th>52</th>\n",
       "      <td>32281</td>\n",
       "      <td>Kimi no Na wa.</td>\n",
       "      <td>Drama, Romance, School, Supernatural</td>\n",
       "      <td>Movie</td>\n",
       "      <td>1</td>\n",
       "      <td>9.37</td>\n",
       "      <td>200630</td>\n",
       "      <td>2025</td>\n",
       "      <td>8.0</td>\n",
       "    </tr>\n",
       "    <tr>\n",
       "      <th>54</th>\n",
       "      <td>32281</td>\n",
       "      <td>Kimi no Na wa.</td>\n",
       "      <td>Drama, Romance, School, Supernatural</td>\n",
       "      <td>Movie</td>\n",
       "      <td>1</td>\n",
       "      <td>9.37</td>\n",
       "      <td>200630</td>\n",
       "      <td>2038</td>\n",
       "      <td>10.0</td>\n",
       "    </tr>\n",
       "    <tr>\n",
       "      <th>55</th>\n",
       "      <td>32281</td>\n",
       "      <td>Kimi no Na wa.</td>\n",
       "      <td>Drama, Romance, School, Supernatural</td>\n",
       "      <td>Movie</td>\n",
       "      <td>1</td>\n",
       "      <td>9.37</td>\n",
       "      <td>200630</td>\n",
       "      <td>2050</td>\n",
       "      <td>10.0</td>\n",
       "    </tr>\n",
       "    <tr>\n",
       "      <th>57</th>\n",
       "      <td>32281</td>\n",
       "      <td>Kimi no Na wa.</td>\n",
       "      <td>Drama, Romance, School, Supernatural</td>\n",
       "      <td>Movie</td>\n",
       "      <td>1</td>\n",
       "      <td>9.37</td>\n",
       "      <td>200630</td>\n",
       "      <td>2107</td>\n",
       "      <td>10.0</td>\n",
       "    </tr>\n",
       "    <tr>\n",
       "      <th>59</th>\n",
       "      <td>32281</td>\n",
       "      <td>Kimi no Na wa.</td>\n",
       "      <td>Drama, Romance, School, Supernatural</td>\n",
       "      <td>Movie</td>\n",
       "      <td>1</td>\n",
       "      <td>9.37</td>\n",
       "      <td>200630</td>\n",
       "      <td>2160</td>\n",
       "      <td>10.0</td>\n",
       "    </tr>\n",
       "    <tr>\n",
       "      <th>60</th>\n",
       "      <td>32281</td>\n",
       "      <td>Kimi no Na wa.</td>\n",
       "      <td>Drama, Romance, School, Supernatural</td>\n",
       "      <td>Movie</td>\n",
       "      <td>1</td>\n",
       "      <td>9.37</td>\n",
       "      <td>200630</td>\n",
       "      <td>2188</td>\n",
       "      <td>9.0</td>\n",
       "    </tr>\n",
       "    <tr>\n",
       "      <th>61</th>\n",
       "      <td>32281</td>\n",
       "      <td>Kimi no Na wa.</td>\n",
       "      <td>Drama, Romance, School, Supernatural</td>\n",
       "      <td>Movie</td>\n",
       "      <td>1</td>\n",
       "      <td>9.37</td>\n",
       "      <td>200630</td>\n",
       "      <td>2197</td>\n",
       "      <td>10.0</td>\n",
       "    </tr>\n",
       "  </tbody>\n",
       "</table>\n",
       "</div>"
      ],
      "text/plain": [
       "    anime_id            name                                 genre   type  \\\n",
       "0      32281  Kimi no Na wa.  Drama, Romance, School, Supernatural  Movie   \n",
       "1      32281  Kimi no Na wa.  Drama, Romance, School, Supernatural  Movie   \n",
       "2      32281  Kimi no Na wa.  Drama, Romance, School, Supernatural  Movie   \n",
       "3      32281  Kimi no Na wa.  Drama, Romance, School, Supernatural  Movie   \n",
       "5      32281  Kimi no Na wa.  Drama, Romance, School, Supernatural  Movie   \n",
       "7      32281  Kimi no Na wa.  Drama, Romance, School, Supernatural  Movie   \n",
       "9      32281  Kimi no Na wa.  Drama, Romance, School, Supernatural  Movie   \n",
       "10     32281  Kimi no Na wa.  Drama, Romance, School, Supernatural  Movie   \n",
       "11     32281  Kimi no Na wa.  Drama, Romance, School, Supernatural  Movie   \n",
       "12     32281  Kimi no Na wa.  Drama, Romance, School, Supernatural  Movie   \n",
       "14     32281  Kimi no Na wa.  Drama, Romance, School, Supernatural  Movie   \n",
       "15     32281  Kimi no Na wa.  Drama, Romance, School, Supernatural  Movie   \n",
       "16     32281  Kimi no Na wa.  Drama, Romance, School, Supernatural  Movie   \n",
       "17     32281  Kimi no Na wa.  Drama, Romance, School, Supernatural  Movie   \n",
       "19     32281  Kimi no Na wa.  Drama, Romance, School, Supernatural  Movie   \n",
       "20     32281  Kimi no Na wa.  Drama, Romance, School, Supernatural  Movie   \n",
       "21     32281  Kimi no Na wa.  Drama, Romance, School, Supernatural  Movie   \n",
       "22     32281  Kimi no Na wa.  Drama, Romance, School, Supernatural  Movie   \n",
       "23     32281  Kimi no Na wa.  Drama, Romance, School, Supernatural  Movie   \n",
       "24     32281  Kimi no Na wa.  Drama, Romance, School, Supernatural  Movie   \n",
       "25     32281  Kimi no Na wa.  Drama, Romance, School, Supernatural  Movie   \n",
       "26     32281  Kimi no Na wa.  Drama, Romance, School, Supernatural  Movie   \n",
       "27     32281  Kimi no Na wa.  Drama, Romance, School, Supernatural  Movie   \n",
       "28     32281  Kimi no Na wa.  Drama, Romance, School, Supernatural  Movie   \n",
       "30     32281  Kimi no Na wa.  Drama, Romance, School, Supernatural  Movie   \n",
       "32     32281  Kimi no Na wa.  Drama, Romance, School, Supernatural  Movie   \n",
       "33     32281  Kimi no Na wa.  Drama, Romance, School, Supernatural  Movie   \n",
       "34     32281  Kimi no Na wa.  Drama, Romance, School, Supernatural  Movie   \n",
       "36     32281  Kimi no Na wa.  Drama, Romance, School, Supernatural  Movie   \n",
       "37     32281  Kimi no Na wa.  Drama, Romance, School, Supernatural  Movie   \n",
       "38     32281  Kimi no Na wa.  Drama, Romance, School, Supernatural  Movie   \n",
       "39     32281  Kimi no Na wa.  Drama, Romance, School, Supernatural  Movie   \n",
       "40     32281  Kimi no Na wa.  Drama, Romance, School, Supernatural  Movie   \n",
       "42     32281  Kimi no Na wa.  Drama, Romance, School, Supernatural  Movie   \n",
       "43     32281  Kimi no Na wa.  Drama, Romance, School, Supernatural  Movie   \n",
       "44     32281  Kimi no Na wa.  Drama, Romance, School, Supernatural  Movie   \n",
       "45     32281  Kimi no Na wa.  Drama, Romance, School, Supernatural  Movie   \n",
       "46     32281  Kimi no Na wa.  Drama, Romance, School, Supernatural  Movie   \n",
       "47     32281  Kimi no Na wa.  Drama, Romance, School, Supernatural  Movie   \n",
       "48     32281  Kimi no Na wa.  Drama, Romance, School, Supernatural  Movie   \n",
       "49     32281  Kimi no Na wa.  Drama, Romance, School, Supernatural  Movie   \n",
       "50     32281  Kimi no Na wa.  Drama, Romance, School, Supernatural  Movie   \n",
       "51     32281  Kimi no Na wa.  Drama, Romance, School, Supernatural  Movie   \n",
       "52     32281  Kimi no Na wa.  Drama, Romance, School, Supernatural  Movie   \n",
       "54     32281  Kimi no Na wa.  Drama, Romance, School, Supernatural  Movie   \n",
       "55     32281  Kimi no Na wa.  Drama, Romance, School, Supernatural  Movie   \n",
       "57     32281  Kimi no Na wa.  Drama, Romance, School, Supernatural  Movie   \n",
       "59     32281  Kimi no Na wa.  Drama, Romance, School, Supernatural  Movie   \n",
       "60     32281  Kimi no Na wa.  Drama, Romance, School, Supernatural  Movie   \n",
       "61     32281  Kimi no Na wa.  Drama, Romance, School, Supernatural  Movie   \n",
       "\n",
       "   episodes  rating  members  user_id  user_rating  \n",
       "0         1    9.37   200630       99          5.0  \n",
       "1         1    9.37   200630      152         10.0  \n",
       "2         1    9.37   200630      244         10.0  \n",
       "3         1    9.37   200630      271         10.0  \n",
       "5         1    9.37   200630      322         10.0  \n",
       "7         1    9.37   200630      462          8.0  \n",
       "9         1    9.37   200630      548         10.0  \n",
       "10        1    9.37   200630      570         10.0  \n",
       "11        1    9.37   200630      598         10.0  \n",
       "12        1    9.37   200630      612          9.0  \n",
       "14        1    9.37   200630      784          9.0  \n",
       "15        1    9.37   200630      786         10.0  \n",
       "16        1    9.37   200630      792          8.0  \n",
       "17        1    9.37   200630      894          9.0  \n",
       "19        1    9.37   200630      929         10.0  \n",
       "20        1    9.37   200630      933         10.0  \n",
       "21        1    9.37   200630      937         10.0  \n",
       "22        1    9.37   200630      979         10.0  \n",
       "23        1    9.37   200630      996          7.0  \n",
       "24        1    9.37   200630     1013         10.0  \n",
       "25        1    9.37   200630     1031         10.0  \n",
       "26        1    9.37   200630     1081         10.0  \n",
       "27        1    9.37   200630     1116          6.0  \n",
       "28        1    9.37   200630     1131         10.0  \n",
       "30        1    9.37   200630     1222         10.0  \n",
       "32        1    9.37   200630     1291         10.0  \n",
       "33        1    9.37   200630     1309          9.0  \n",
       "34        1    9.37   200630     1378         10.0  \n",
       "36        1    9.37   200630     1441         10.0  \n",
       "37        1    9.37   200630     1487          8.0  \n",
       "38        1    9.37   200630     1497         10.0  \n",
       "39        1    9.37   200630     1504         10.0  \n",
       "40        1    9.37   200630     1522          8.0  \n",
       "42        1    9.37   200630     1620         10.0  \n",
       "43        1    9.37   200630     1795         10.0  \n",
       "44        1    9.37   200630     1862          9.0  \n",
       "45        1    9.37   200630     1867         10.0  \n",
       "46        1    9.37   200630     1918          9.0  \n",
       "47        1    9.37   200630     1937         10.0  \n",
       "48        1    9.37   200630     1963         10.0  \n",
       "49        1    9.37   200630     1987         10.0  \n",
       "50        1    9.37   200630     2015         10.0  \n",
       "51        1    9.37   200630     2016         10.0  \n",
       "52        1    9.37   200630     2025          8.0  \n",
       "54        1    9.37   200630     2038         10.0  \n",
       "55        1    9.37   200630     2050         10.0  \n",
       "57        1    9.37   200630     2107         10.0  \n",
       "59        1    9.37   200630     2160         10.0  \n",
       "60        1    9.37   200630     2188          9.0  \n",
       "61        1    9.37   200630     2197         10.0  "
      ]
     },
     "execution_count": 23,
     "metadata": {},
     "output_type": "execute_result"
    }
   ],
   "source": [
    "data = pd.DataFrame(data)\n",
    "data.head(50)"
   ]
  },
  {
   "cell_type": "markdown",
   "id": "f76895d1",
   "metadata": {
    "papermill": {
     "duration": 0.011968,
     "end_time": "2023-01-26T13:25:47.658158",
     "exception": false,
     "start_time": "2023-01-26T13:25:47.646190",
     "status": "completed"
    },
    "tags": []
   },
   "source": [
    "## **MODELLING**"
   ]
  },
  {
   "cell_type": "code",
   "execution_count": 24,
   "id": "b3a04c79",
   "metadata": {
    "execution": {
     "iopub.execute_input": "2023-01-26T13:25:47.683934Z",
     "iopub.status.busy": "2023-01-26T13:25:47.683112Z",
     "iopub.status.idle": "2023-01-26T13:25:52.547247Z",
     "shell.execute_reply": "2023-01-26T13:25:52.546254Z"
    },
    "papermill": {
     "duration": 4.87945,
     "end_time": "2023-01-26T13:25:52.549666",
     "exception": false,
     "start_time": "2023-01-26T13:25:47.670216",
     "status": "completed"
    },
    "tags": []
   },
   "outputs": [],
   "source": [
    "import keras\n",
    "from keras import layers \n",
    "import tensorflow as tf\n",
    "from keras.models import Model\n",
    "from tensorflow.keras.optimizers import Adam"
   ]
  },
  {
   "cell_type": "code",
   "execution_count": 25,
   "id": "0c577f1a",
   "metadata": {
    "execution": {
     "iopub.execute_input": "2023-01-26T13:25:52.575742Z",
     "iopub.status.busy": "2023-01-26T13:25:52.575175Z",
     "iopub.status.idle": "2023-01-26T13:25:53.972832Z",
     "shell.execute_reply": "2023-01-26T13:25:53.971574Z"
    },
    "papermill": {
     "duration": 1.413114,
     "end_time": "2023-01-26T13:25:53.975309",
     "exception": false,
     "start_time": "2023-01-26T13:25:52.562195",
     "status": "completed"
    },
    "tags": []
   },
   "outputs": [
    {
     "name": "stdout",
     "output_type": "stream",
     "text": [
      "Num of users: 32967, Num of animes: 9874\n",
      "Min rating: 2.0, Max rating: 9.37\n"
     ]
    }
   ],
   "source": [
    "# Encoding categorical data\n",
    "user_ids = data[\"user_id\"].unique().tolist()\n",
    "user2user_encoded = {x: i for i, x in enumerate(user_ids)}\n",
    "user_encoded2user = {i: x for i, x in enumerate(user_ids)}\n",
    "data[\"user\"] = data[\"user_id\"].map(user2user_encoded)\n",
    "n_users = len(user2user_encoded)\n",
    "\n",
    "anime_ids = data[\"anime_id\"].unique().tolist()\n",
    "anime2anime_encoded = {x: i for i, x in enumerate(anime_ids)}\n",
    "anime_encoded2anime = {i: x for i, x in enumerate(anime_ids)}\n",
    "data[\"anime\"] = data[\"anime_id\"].map(anime2anime_encoded)\n",
    "n_animes = len(anime2anime_encoded)\n",
    "\n",
    "print(\"Num of users: {}, Num of animes: {}\".format(n_users, n_animes))\n",
    "print(\"Min rating: {}, Max rating: {}\".format(min(data['rating']), max(data['rating'])))"
   ]
  },
  {
   "cell_type": "code",
   "execution_count": 26,
   "id": "41ca1b43",
   "metadata": {
    "execution": {
     "iopub.execute_input": "2023-01-26T13:25:54.002747Z",
     "iopub.status.busy": "2023-01-26T13:25:54.001832Z",
     "iopub.status.idle": "2023-01-26T13:25:56.997340Z",
     "shell.execute_reply": "2023-01-26T13:25:56.996300Z"
    },
    "papermill": {
     "duration": 3.011985,
     "end_time": "2023-01-26T13:25:57.000539",
     "exception": false,
     "start_time": "2023-01-26T13:25:53.988554",
     "status": "completed"
    },
    "tags": []
   },
   "outputs": [
    {
     "name": "stdout",
     "output_type": "stream",
     "text": [
      "> Train set ratings: 5685965\n",
      "> Test set ratings: 10000\n"
     ]
    }
   ],
   "source": [
    "# Shuffle\n",
    "data = data.sample(frac=1, random_state=73)\n",
    "\n",
    "X = data[['user', 'anime']].values\n",
    "y = data[\"rating\"]\n",
    "\n",
    "# Split\n",
    "test_set_size = 10000 #10k for test set\n",
    "train_indices = data.shape[0] - test_set_size \n",
    "\n",
    "X_train, X_test, y_train, y_test = (\n",
    "    X[:train_indices],\n",
    "    X[train_indices:],\n",
    "    y[:train_indices],\n",
    "    y[train_indices:],\n",
    ")\n",
    "\n",
    "print('> Train set ratings: {}'.format(len(y_train)))\n",
    "print('> Test set ratings: {}'.format(len(y_test)))"
   ]
  },
  {
   "cell_type": "code",
   "execution_count": 27,
   "id": "0e56dcca",
   "metadata": {
    "execution": {
     "iopub.execute_input": "2023-01-26T13:25:57.027443Z",
     "iopub.status.busy": "2023-01-26T13:25:57.027136Z",
     "iopub.status.idle": "2023-01-26T13:25:57.033084Z",
     "shell.execute_reply": "2023-01-26T13:25:57.032209Z"
    },
    "papermill": {
     "duration": 0.021324,
     "end_time": "2023-01-26T13:25:57.035214",
     "exception": false,
     "start_time": "2023-01-26T13:25:57.013890",
     "status": "completed"
    },
    "tags": []
   },
   "outputs": [],
   "source": [
    "X_train_array = [X_train[:, 0], X_train[:, 1]]\n",
    "X_test_array = [X_test[:, 0], X_test[:, 1]]"
   ]
  },
  {
   "cell_type": "code",
   "execution_count": 28,
   "id": "36f93c3c",
   "metadata": {
    "execution": {
     "iopub.execute_input": "2023-01-26T13:25:57.060935Z",
     "iopub.status.busy": "2023-01-26T13:25:57.060658Z",
     "iopub.status.idle": "2023-01-26T13:25:59.960800Z",
     "shell.execute_reply": "2023-01-26T13:25:59.959356Z"
    },
    "papermill": {
     "duration": 2.916829,
     "end_time": "2023-01-26T13:25:59.964438",
     "exception": false,
     "start_time": "2023-01-26T13:25:57.047609",
     "status": "completed"
    },
    "tags": []
   },
   "outputs": [
    {
     "name": "stderr",
     "output_type": "stream",
     "text": [
      "2023-01-26 13:25:57.153212: I tensorflow/stream_executor/cuda/cuda_gpu_executor.cc:937] successful NUMA node read from SysFS had negative value (-1), but there must be at least one NUMA node, so returning NUMA node zero\n",
      "2023-01-26 13:25:57.250483: I tensorflow/stream_executor/cuda/cuda_gpu_executor.cc:937] successful NUMA node read from SysFS had negative value (-1), but there must be at least one NUMA node, so returning NUMA node zero\n",
      "2023-01-26 13:25:57.251273: I tensorflow/stream_executor/cuda/cuda_gpu_executor.cc:937] successful NUMA node read from SysFS had negative value (-1), but there must be at least one NUMA node, so returning NUMA node zero\n",
      "2023-01-26 13:25:57.252599: I tensorflow/core/platform/cpu_feature_guard.cc:142] This TensorFlow binary is optimized with oneAPI Deep Neural Network Library (oneDNN) to use the following CPU instructions in performance-critical operations:  AVX2 AVX512F FMA\n",
      "To enable them in other operations, rebuild TensorFlow with the appropriate compiler flags.\n",
      "2023-01-26 13:25:57.252895: I tensorflow/stream_executor/cuda/cuda_gpu_executor.cc:937] successful NUMA node read from SysFS had negative value (-1), but there must be at least one NUMA node, so returning NUMA "
     ]
    },
    {
     "name": "stdout",
     "output_type": "stream",
     "text": [
      "Model: \"model\"\n",
      "__________________________________________________________________________________________________\n",
      "Layer (type)                    Output Shape         Param #     Connected to                     \n",
      "==================================================================================================\n",
      "user (InputLayer)               [(None, 1)]          0                                            \n",
      "__________________________________________________________________________________________________\n",
      "anime (InputLayer)              [(None, 1)]          0                                            \n",
      "__________________________________________________________________________________________________\n",
      "user_embedding (Embedding)      (None, 1, 128)       4219776     user[0][0]                       \n",
      "__________________________________________________________________________________________________\n",
      "anime_embedding (Embedding)     (None, 1, 128)       1263872     anime[0][0]                      \n",
      "__________________________________________________________________________________________________\n",
      "dot_product (Dot)               (None, 1, 1)         0           user_embedding[0][0]             \n",
      "                                                                 anime_embedding[0][0]            \n",
      "__________________________________________________________________________________________________\n",
      "flatten (Flatten)               (None, 1)            0           dot_product[0][0]                \n",
      "__________________________________________________________________________________________________\n",
      "dense (Dense)                   (None, 1)            2           flatten[0][0]                    \n",
      "__________________________________________________________________________________________________\n",
      "batch_normalization (BatchNorma (None, 1)            4           dense[0][0]                      \n",
      "__________________________________________________________________________________________________\n",
      "activation (Activation)         (None, 1)            0           batch_normalization[0][0]        \n",
      "==================================================================================================\n",
      "Total params: 5,483,654\n",
      "Trainable params: 5,483,652\n",
      "Non-trainable params: 2\n",
      "__________________________________________________________________________________________________\n"
     ]
    },
    {
     "name": "stderr",
     "output_type": "stream",
     "text": [
      "node zero\n",
      "2023-01-26 13:25:57.253599: I tensorflow/stream_executor/cuda/cuda_gpu_executor.cc:937] successful NUMA node read from SysFS had negative value (-1), but there must be at least one NUMA node, so returning NUMA node zero\n",
      "2023-01-26 13:25:57.254249: I tensorflow/stream_executor/cuda/cuda_gpu_executor.cc:937] successful NUMA node read from SysFS had negative value (-1), but there must be at least one NUMA node, so returning NUMA node zero\n",
      "2023-01-26 13:25:59.494120: I tensorflow/stream_executor/cuda/cuda_gpu_executor.cc:937] successful NUMA node read from SysFS had negative value (-1), but there must be at least one NUMA node, so returning NUMA node zero\n",
      "2023-01-26 13:25:59.495211: I tensorflow/stream_executor/cuda/cuda_gpu_executor.cc:937] successful NUMA node read from SysFS had negative value (-1), but there must be at least one NUMA node, so returning NUMA node zero\n",
      "2023-01-26 13:25:59.496149: I tensorflow/stream_executor/cuda/cuda_gpu_executor.cc:937] successful NUMA node read from SysFS had negative value (-1), but there must be at least one NUMA node, so returning NUMA node zero\n",
      "2023-01-26 13:25:59.497036: I tensorflow/core/common_runtime/gpu/gpu_device.cc:1510] Created device /job:localhost/replica:0/task:0/device:GPU:0 with 15403 MB memory:  -> device: 0, name: Tesla P100-PCIE-16GB, pci bus id: 0000:00:04.0, compute capability: 6.0\n"
     ]
    }
   ],
   "source": [
    "# Embedding layers\n",
    "from keras.layers import Add, Activation, Lambda, BatchNormalization, Concatenate, Dropout, Input, Embedding, Dot, Reshape, Dense, Flatten\n",
    "\n",
    "def RecommenderNet():\n",
    "    embedding_size = 128\n",
    "    \n",
    "    user = Input(name = 'user', shape = [1])\n",
    "    user_embedding = Embedding(name = 'user_embedding',\n",
    "                       input_dim = n_users, \n",
    "                       output_dim = embedding_size)(user)\n",
    "    \n",
    "    anime = Input(name = 'anime', shape = [1])\n",
    "    anime_embedding = Embedding(name = 'anime_embedding',\n",
    "                       input_dim = n_animes, \n",
    "                       output_dim = embedding_size)(anime)\n",
    "    \n",
    "    #x = Concatenate()([user_embedding, anime_embedding])\n",
    "    x = Dot(name = 'dot_product', normalize = True, axes = 2)([user_embedding, anime_embedding])\n",
    "    x = Flatten()(x)\n",
    "        \n",
    "    x = Dense(1, kernel_initializer='he_normal')(x)\n",
    "    x = BatchNormalization()(x)\n",
    "    x = Activation(\"sigmoid\")(x)\n",
    "    \n",
    "    model = Model(inputs=[user, anime], outputs=x)\n",
    "    model.compile(loss='binary_crossentropy', metrics=[\"mae\", \"mse\"], optimizer='Adam')\n",
    "    \n",
    "    return model\n",
    "\n",
    "\n",
    "model = RecommenderNet()\n",
    "model.summary()"
   ]
  },
  {
   "cell_type": "code",
   "execution_count": 29,
   "id": "e2b1aaa8",
   "metadata": {
    "execution": {
     "iopub.execute_input": "2023-01-26T13:25:59.992668Z",
     "iopub.status.busy": "2023-01-26T13:25:59.991734Z",
     "iopub.status.idle": "2023-01-26T13:26:00.000838Z",
     "shell.execute_reply": "2023-01-26T13:26:00.000001Z"
    },
    "papermill": {
     "duration": 0.024614,
     "end_time": "2023-01-26T13:26:00.002799",
     "exception": false,
     "start_time": "2023-01-26T13:25:59.978185",
     "status": "completed"
    },
    "tags": []
   },
   "outputs": [],
   "source": [
    "# Callbacks\n",
    "from tensorflow.keras.callbacks import Callback, ModelCheckpoint, LearningRateScheduler, TensorBoard, EarlyStopping, ReduceLROnPlateau\n",
    "\n",
    "start_lr = 0.00001\n",
    "min_lr = 0.00001\n",
    "max_lr = 0.00005\n",
    "batch_size = 8000\n",
    "rampup_epochs = 5\n",
    "sustain_epochs = 0\n",
    "exp_decay = .8\n",
    "\n",
    "def lrfn(epoch):\n",
    "    if epoch < rampup_epochs:\n",
    "        return (max_lr - start_lr)/rampup_epochs * epoch + start_lr\n",
    "    elif epoch < rampup_epochs + sustain_epochs:\n",
    "        return max_lr\n",
    "    else:\n",
    "        return (max_lr - min_lr) * exp_decay**(epoch-rampup_epochs-sustain_epochs) + min_lr\n",
    "\n",
    "\n",
    "lr_callback = LearningRateScheduler(lambda epoch: lrfn(epoch), verbose=0)\n",
    "checkpoint_filepath = './weights.h5'\n",
    "model_checkpoints = ModelCheckpoint(filepath=checkpoint_filepath,\n",
    "                                        save_weights_only=True,\n",
    "                                        monitor='val_loss',\n",
    "                                        mode='min',\n",
    "                                        save_best_only=True)\n",
    "\n",
    "early_stopping = EarlyStopping(patience = 3, monitor='val_loss', mode='min', restore_best_weights=True)\n",
    "\n",
    "my_callbacks = [\n",
    "    model_checkpoints,\n",
    "    lr_callback,\n",
    "    early_stopping,   \n",
    "]"
   ]
  },
  {
   "cell_type": "code",
   "execution_count": 30,
   "id": "806b707d",
   "metadata": {
    "execution": {
     "iopub.execute_input": "2023-01-26T13:26:00.029216Z",
     "iopub.status.busy": "2023-01-26T13:26:00.028957Z",
     "iopub.status.idle": "2023-01-26T13:26:42.214826Z",
     "shell.execute_reply": "2023-01-26T13:26:42.213815Z"
    },
    "papermill": {
     "duration": 42.201506,
     "end_time": "2023-01-26T13:26:42.217292",
     "exception": false,
     "start_time": "2023-01-26T13:26:00.015786",
     "status": "completed"
    },
    "tags": []
   },
   "outputs": [
    {
     "name": "stderr",
     "output_type": "stream",
     "text": [
      "2023-01-26 13:26:00.343248: I tensorflow/compiler/mlir/mlir_graph_optimization_pass.cc:185] None of the MLIR Optimization Passes are enabled (registered 2)\n"
     ]
    },
    {
     "name": "stdout",
     "output_type": "stream",
     "text": [
      "Epoch 1/5\n",
      "711/711 [==============================] - 7s 7ms/step - loss: 0.7106 - mae: 7.1515 - mse: 51.6119 - val_loss: 0.6598 - val_mae: 7.1633 - val_mse: 51.7758\n",
      "Epoch 2/5\n",
      "711/711 [==============================] - 5s 7ms/step - loss: 0.6328 - mae: 7.1491 - mse: 51.5759 - val_loss: 0.5918 - val_mae: 7.1608 - val_mse: 51.7445\n",
      "Epoch 3/5\n",
      "711/711 [==============================] - 5s 7ms/step - loss: 0.5097 - mae: 7.1455 - mse: 51.5183 - val_loss: 0.4254 - val_mae: 7.1556 - val_mse: 51.6659\n",
      "Epoch 4/5\n",
      "711/711 [==============================] - 5s 7ms/step - loss: 0.3376 - mae: 7.1404 - mse: 51.4366 - val_loss: 0.1879 - val_mae: 7.1483 - val_mse: 51.5526\n",
      "Epoch 5/5\n",
      "711/711 [==============================] - 5s 7ms/step - loss: 0.0910 - mae: 7.1341 - mse: 51.3209 - val_loss: -0.2291 - val_mae: 7.1378 - val_mse: 51.3615\n"
     ]
    }
   ],
   "source": [
    "# Model training\n",
    "history = model.fit(\n",
    "    x=X_train_array,\n",
    "    y=y_train,\n",
    "    batch_size=batch_size,\n",
    "    epochs=5,\n",
    "    verbose=1,\n",
    "    validation_data=(X_test_array, y_test),\n",
    "    callbacks=my_callbacks\n",
    ")\n",
    "\n",
    "model.load_weights(checkpoint_filepath)"
   ]
  },
  {
   "cell_type": "code",
   "execution_count": 31,
   "id": "83a36827",
   "metadata": {
    "execution": {
     "iopub.execute_input": "2023-01-26T13:26:42.292540Z",
     "iopub.status.busy": "2023-01-26T13:26:42.291620Z",
     "iopub.status.idle": "2023-01-26T13:26:42.496419Z",
     "shell.execute_reply": "2023-01-26T13:26:42.495444Z"
    },
    "papermill": {
     "duration": 0.243798,
     "end_time": "2023-01-26T13:26:42.498470",
     "exception": false,
     "start_time": "2023-01-26T13:26:42.254672",
     "status": "completed"
    },
    "tags": []
   },
   "outputs": [
    {
     "data": {
      "image/png": "[encoded data removed]",
      "text/plain": [
       "<Figure size 432x288 with 1 Axes>"
      ]
     },
     "metadata": {
      "needs_background": "light"
     },
     "output_type": "display_data"
    }
   ],
   "source": [
    "plt.plot(history.history[\"loss\"])\n",
    "plt.plot(history.history[\"val_loss\"])\n",
    "plt.title(\"model loss\")\n",
    "plt.ylabel(\"loss\")\n",
    "plt.xlabel(\"epoch\")\n",
    "plt.legend([\"train\", \"test\"], loc=\"upper left\")\n",
    "plt.show()"
   ]
  }
 ],
 "metadata": {
  "kernelspec": {
   "display_name": "Python 3",
   "language": "python",
   "name": "python3"
  },
  "language_info": {
   "codemirror_mode": {
    "name": "ipython",
    "version": 3
   },
   "file_extension": ".py",
   "mimetype": "text/x-python",
   "name": "python",
   "nbconvert_exporter": "python",
   "pygments_lexer": "ipython3",
   "version": "3.7.12"
  },
  "papermill": {
   "default_parameters": {},
   "duration": 119.442047,
   "end_time": "2023-01-26T13:26:45.893581",
   "environment_variables": {},
   "exception": null,
   "input_path": "__notebook__.ipynb",
   "output_path": "__notebook__.ipynb",
   "parameters": {},
   "start_time": "2023-01-26T13:24:46.451534",
   "version": "2.3.4"
  }
 },
 "nbformat": 4,
 "nbformat_minor": 5
}
